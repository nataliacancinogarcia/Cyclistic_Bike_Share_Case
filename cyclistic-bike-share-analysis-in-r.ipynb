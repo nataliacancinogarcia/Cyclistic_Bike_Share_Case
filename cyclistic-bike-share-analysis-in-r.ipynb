{
 "cells": [
  {
   "cell_type": "markdown",
   "id": "cb564eba",
   "metadata": {
    "papermill": {
     "duration": 0.023928,
     "end_time": "2024-09-25T00:00:36.582946",
     "exception": false,
     "start_time": "2024-09-25T00:00:36.559018",
     "status": "completed"
    },
    "tags": []
   },
   "source": [
    "# Cyclistic Bike-Share Marketing Project: Objectives, Scope, and Limitations\n",
    "\n",
    "**Project Objectives:**\n",
    "The primary objective of this project is to analyze the differences in bike usage patterns between casual riders and annual members in order to design data-driven marketing strategies that will encourage casual riders to convert into annual members. By leveraging Cyclistic’s historical bike trip data, the project aims to identify key behavioral trends and insights that will support the development of targeted campaigns to increase annual memberships, which are more profitable for the company compared to casual riders.\n",
    "Project Scope:\n",
    "\n",
    "**1.\tData Analysis:**\n",
    "\t•\tThe project focuses on the analysis of Cyclistic’s historical bike trip data, which includes information such as trip duration, trip start and end locations, and the type of pass used (casual or annual membership).\n",
    "\t•\tThe analysis will focus on understanding how casual riders and annual members differ in terms of trip frequency, duration, popular stations, and the time of day or week they prefer to ride.\n",
    "    \n",
    "**2.\tMarketing Strategy Development:**\n",
    "\t•\tInsights gathered from the data analysis will guide the marketing team in developing strategies to target casual riders effectively, particularly through digital and social media campaigns.\n",
    "\t•\tThe project will focus on identifying the best opportunities for seasonal promotions, localized campaigns, or targeted offers to increase conversions to annual memberships.\n",
    "\n",
    "**Project Limitations and Constraints:**\n",
    "\n",
    "**1.\tData Source:**\n",
    "\t•\tThe project will rely solely on publicly available trip data. No personal information, payment data, or specific purchase history will be included in the analysis. The data is anonymized and focuses only on usage behavior and customer type (casual or annual).\n",
    "\t•\tPass purchase data or the specific motivations behind casual riders not converting to annual memberships are not available in the dataset, limiting the scope to behavioral insights rather than personal or purchasing motivations.\n",
    "    \n",
    "**2.\tTimeframe:**\n",
    "\t•\tThe analysis will cover a specific period of historical data, which might not capture recent changes in user behavior or market trends, especially with shifts caused by external factors like the pandemic or changes in city infrastructure.\n",
    "    \n",
    "**3.\tAssumptions:**\n",
    "\t•\tThe project assumes that behavioral differences identified in historical data can be effectively used to predict future customer behavior and inform marketing strategies. However, rider behavior may evolve over time, and the effectiveness of recommendations might need ongoing testing and adjustment.\n",
    "\n",
    "**Key Stakeholders:**\n",
    "\n",
    "**1.\tDirector of Marketing:**\n",
    "\t•\tRole: Leads the development of campaigns and marketing initiatives to promote the Cyclistic bike-share program across various social media platforms.\n",
    "\t•\tResponsibilities: Approves marketing strategies and works with the team to ensure alignment with Cyclistic’s business goals of increasing annual memberships.\n",
    "    \n",
    "**2.\tMarketing Analytics Team:**\n",
    "\t•\tRole: Collects, analyzes, and reports data to support Cyclistic’s marketing strategy.\n",
    "\t•\tResponsibilities: Responsible for conducting the data analysis, identifying key trends, and providing actionable insights to inform marketing campaigns. The team will ensure data is handled securely and that conclusions drawn are based on robust analysis.\n",
    "    \n",
    "**3.\tExecutive Team:**\n",
    "\t•\tRole: Oversees the overall business strategy and approves the marketing program.\n",
    "\t•\tResponsibilities: Reviews and approves marketing proposals and initiatives recommended by the marketing and analytics teams. Ensures that the project is aligned with the company’s financial goals and long-term strategy."
   ]
  },
  {
   "cell_type": "markdown",
   "id": "5d0db7f4",
   "metadata": {
    "papermill": {
     "duration": 0.023114,
     "end_time": "2024-09-25T00:00:36.628442",
     "exception": false,
     "start_time": "2024-09-25T00:00:36.605328",
     "status": "completed"
    },
    "tags": []
   },
   "source": [
    "\n",
    "# Data Source Description for Cyclistic Bike-Share Project\n",
    "## 1. Data Source Information:\n",
    "\t•\tSource URL: Divvy Trip Data Archive\n",
    "\t•\tFile Format: Compressed ZIP files containing CSV format data.\n",
    "\t•\tData Organization:\n",
    "\t•\tFiles are available monthly or quarterly and are not always organized chronologically due to changes in file naming conventions over time.\n",
    "\t•\tThe latest available data covers up to August 2024, with files being added on a monthly basis, meaning the latest data available for analysis was loaded in September 2024.\n",
    "## 2. Specific Datasets Used:\n",
    "For this project, we will focus on data from the last 12 months, providing the most relevant and up-to-date information on bike usage patterns.\n",
    "The specific datasets used are:\n",
    "\t•\tMonthly CSV files from September 2023 to August 2024, which contain detailed records of bike trips.\n",
    "## 3. Dataset Description:\n",
    "Each dataset contains detailed records of individual bike trips, with the following columns:\n",
    "\n",
    "**ride_id:**chr,Unique identifier for each bike trip.\n",
    "\n",
    "**rideable_type:**chr,The type of bike used (e.g., electric, standard, etc.).\n",
    "\n",
    "**started_at:**chr,Date and time when the trip started.\n",
    "\n",
    "**ended_at:**chr,Date and time when the trip ended.\n",
    "\n",
    "**start_station_name:**chr,Name of the station where the trip began.\n",
    "\n",
    "**start_station_id:**int,Unique identifier for the station where the trip started.\n",
    "\n",
    "**end_station_name:**,Name of the station where the trip ended.\n",
    "\n",
    "**end_station_id:**int,Unique identifier for the station where the trip ended.\n",
    "\n",
    "**start_lat:**num,Latitude of the starting point.\n",
    "\n",
    "**start_lng:**num,Longitude of the starting point.\n",
    "\n",
    "**end_lat:**num,Latitude of the ending point.\n",
    "\n",
    "**end_lng:**num,Longitude of the ending point.\n",
    "\n",
    "**member_casual:**chr,Indicates whether the rider was a casual (non-member) or an annual member.\n"
   ]
  },
  {
   "cell_type": "markdown",
   "id": "a3ebbe5e",
   "metadata": {
    "papermill": {
     "duration": 0.022269,
     "end_time": "2024-09-25T00:00:36.673098",
     "exception": false,
     "start_time": "2024-09-25T00:00:36.650829",
     "status": "completed"
    },
    "tags": []
   },
   "source": [
    "## 4. Time Range:\n",
    "The data used in this project spans from September 2023 to August 2024. This 12-month range provides a recent and accurate reflection of bike-share usage trends for both casual and annual members.\n",
    "## 5. Metadata and Field Definitions:\n",
    "**ride_id:** A unique alphanumeric identifier for each individual trip.\n",
    "**rideable_type:** Describes the type of bike used in the trip, such as classic bike, electric bike, or assistive option.\n",
    "**started_at and ended_at:** Represent the timestamps for when the trip started and ended, respectively. They are provided in a YYYY-MM-DD HH:MM:SS format.\n",
    "**start_station_name and end_station_name:** The names of the stations where the trip began and ended. If the trip started or ended without a docking station, the values may be NA.\n",
    "**start_lat, start_lng, end_lat, end_lng:** These fields record the geographic coordinates (latitude and longitude) of the start and end points of each trip.\n",
    "**member_casual:** This column differentiates between annual members (those who have subscribed to an annual pass) and casual riders (those using one-time or day passes).\n",
    "## 6. Data Collection and Sourcing:\n",
    "**Data Collection:** The data is collected through Cyclistic’s bike-share system, which tracks all bike trips, including start and end times, locations, and the type of pass used by riders (casual or member). The data is updated regularly and reflects ongoing bike-share usage.\n",
    "**Licensing and Permissions:** The data is publicly available under the Lyft Bikes and Scooters, LLC Data License Agreement. This agreement provides a non-exclusive, royalty-free, perpetual license to access, modify, and distribute the data for any lawful purpose. However, the data cannot be sold or distributed as a stand-alone dataset.\n",
    "## 7. Limitations and Considerations:\n",
    "Absence of Purchase Data: The dataset does not include payment data or specific purchase history, limiting the analysis to behavioral insights rather than personal or purchasing motivations.\n",
    "File Structure Changes: Over time, the file structure and column names have evolved. However, starting in 2020, the data columns have been standardized, making it easier to perform analysis for recent years."
   ]
  },
  {
   "cell_type": "code",
   "execution_count": 1,
   "id": "436f450e",
   "metadata": {
    "_execution_state": "idle",
    "_uuid": "051d70d956493feee0c6d64651c6a088724dca2a",
    "execution": {
     "iopub.execute_input": "2024-09-25T00:00:36.723234Z",
     "iopub.status.busy": "2024-09-25T00:00:36.720480Z",
     "iopub.status.idle": "2024-09-25T00:00:38.118965Z",
     "shell.execute_reply": "2024-09-25T00:00:38.116725Z"
    },
    "papermill": {
     "duration": 1.427106,
     "end_time": "2024-09-25T00:00:38.122418",
     "exception": false,
     "start_time": "2024-09-25T00:00:36.695312",
     "status": "completed"
    },
    "tags": []
   },
   "outputs": [
    {
     "name": "stderr",
     "output_type": "stream",
     "text": [
      "\n",
      "Attaching package: ‘dplyr’\n",
      "\n",
      "\n"
     ]
    },
    {
     "name": "stderr",
     "output_type": "stream",
     "text": [
      "The following objects are masked from ‘package:stats’:\n",
      "\n",
      "    filter, lag\n",
      "\n",
      "\n"
     ]
    },
    {
     "name": "stderr",
     "output_type": "stream",
     "text": [
      "The following objects are masked from ‘package:base’:\n",
      "\n",
      "    intersect, setdiff, setequal, union\n",
      "\n",
      "\n"
     ]
    },
    {
     "name": "stderr",
     "output_type": "stream",
     "text": [
      "── \u001b[1mAttaching core tidyverse packages\u001b[22m ──────────────────────── tidyverse 2.0.0 ──\n",
      "\u001b[32m✔\u001b[39m \u001b[34mforcats  \u001b[39m 1.0.0     \u001b[32m✔\u001b[39m \u001b[34mreadr    \u001b[39m 2.1.5\n",
      "\u001b[32m✔\u001b[39m \u001b[34mggplot2  \u001b[39m 3.5.1     \u001b[32m✔\u001b[39m \u001b[34mstringr  \u001b[39m 1.5.1\n",
      "\u001b[32m✔\u001b[39m \u001b[34mlubridate\u001b[39m 1.9.3     \u001b[32m✔\u001b[39m \u001b[34mtibble   \u001b[39m 3.2.1\n",
      "\u001b[32m✔\u001b[39m \u001b[34mpurrr    \u001b[39m 1.0.2     \u001b[32m✔\u001b[39m \u001b[34mtidyr    \u001b[39m 1.3.1\n"
     ]
    },
    {
     "name": "stderr",
     "output_type": "stream",
     "text": [
      "── \u001b[1mConflicts\u001b[22m ────────────────────────────────────────── tidyverse_conflicts() ──\n",
      "\u001b[31m✖\u001b[39m \u001b[34mdplyr\u001b[39m::\u001b[32mfilter()\u001b[39m masks \u001b[34mstats\u001b[39m::filter()\n",
      "\u001b[31m✖\u001b[39m \u001b[34mdplyr\u001b[39m::\u001b[32mlag()\u001b[39m    masks \u001b[34mstats\u001b[39m::lag()\n",
      "\u001b[36mℹ\u001b[39m Use the conflicted package (\u001b[3m\u001b[34m<http://conflicted.r-lib.org/>\u001b[39m\u001b[23m) to force all conflicts to become errors\n"
     ]
    },
    {
     "data": {
      "text/html": [
       "<style>\n",
       ".list-inline {list-style: none; margin:0; padding: 0}\n",
       ".list-inline>li {display: inline-block}\n",
       ".list-inline>li:not(:last-child)::after {content: \"\\00b7\"; padding: 0 .5ex}\n",
       "</style>\n",
       "<ol class=list-inline><li>'202309-divvy-tripdata.csv'</li><li>'202310-divvy-tripdata.csv'</li><li>'202311-divvy-tripdata.csv'</li><li>'202312-divvy-tripdata.csv'</li><li>'202401-divvy-tripdata.csv'</li><li>'202402-divvy-tripdata.csv'</li><li>'202403-divvy-tripdata.csv'</li><li>'202404-divvy-tripdata.csv'</li><li>'202405-divvy-tripdata.csv'</li><li>'202406-divvy-tripdata.csv'</li><li>'202407-divvy-tripdata.csv'</li><li>'202408-divvy-tripdata.csv'</li></ol>\n"
      ],
      "text/latex": [
       "\\begin{enumerate*}\n",
       "\\item '202309-divvy-tripdata.csv'\n",
       "\\item '202310-divvy-tripdata.csv'\n",
       "\\item '202311-divvy-tripdata.csv'\n",
       "\\item '202312-divvy-tripdata.csv'\n",
       "\\item '202401-divvy-tripdata.csv'\n",
       "\\item '202402-divvy-tripdata.csv'\n",
       "\\item '202403-divvy-tripdata.csv'\n",
       "\\item '202404-divvy-tripdata.csv'\n",
       "\\item '202405-divvy-tripdata.csv'\n",
       "\\item '202406-divvy-tripdata.csv'\n",
       "\\item '202407-divvy-tripdata.csv'\n",
       "\\item '202408-divvy-tripdata.csv'\n",
       "\\end{enumerate*}\n"
      ],
      "text/markdown": [
       "1. '202309-divvy-tripdata.csv'\n",
       "2. '202310-divvy-tripdata.csv'\n",
       "3. '202311-divvy-tripdata.csv'\n",
       "4. '202312-divvy-tripdata.csv'\n",
       "5. '202401-divvy-tripdata.csv'\n",
       "6. '202402-divvy-tripdata.csv'\n",
       "7. '202403-divvy-tripdata.csv'\n",
       "8. '202404-divvy-tripdata.csv'\n",
       "9. '202405-divvy-tripdata.csv'\n",
       "10. '202406-divvy-tripdata.csv'\n",
       "11. '202407-divvy-tripdata.csv'\n",
       "12. '202408-divvy-tripdata.csv'\n",
       "\n",
       "\n"
      ],
      "text/plain": [
       " [1] \"202309-divvy-tripdata.csv\" \"202310-divvy-tripdata.csv\"\n",
       " [3] \"202311-divvy-tripdata.csv\" \"202312-divvy-tripdata.csv\"\n",
       " [5] \"202401-divvy-tripdata.csv\" \"202402-divvy-tripdata.csv\"\n",
       " [7] \"202403-divvy-tripdata.csv\" \"202404-divvy-tripdata.csv\"\n",
       " [9] \"202405-divvy-tripdata.csv\" \"202406-divvy-tripdata.csv\"\n",
       "[11] \"202407-divvy-tripdata.csv\" \"202408-divvy-tripdata.csv\""
      ]
     },
     "metadata": {},
     "output_type": "display_data"
    }
   ],
   "source": [
    "# Libraries \n",
    "library(dplyr)\n",
    "library(tidyverse) # metapackage of all tidyverse packages\n",
    "\n",
    "\n",
    "list.files(path = \"/kaggle/input/bike-share-dyvvy-tripdata-202309-202408\")\n",
    "\n"
   ]
  },
  {
   "cell_type": "markdown",
   "id": "632d3163",
   "metadata": {
    "papermill": {
     "duration": 0.024344,
     "end_time": "2024-09-25T00:00:38.171166",
     "exception": false,
     "start_time": "2024-09-25T00:00:38.146822",
     "status": "completed"
    },
    "tags": []
   },
   "source": [
    "# Loading Data\n",
    "\n",
    "In this section, we will upload the data files, which have been downloaded from September 2023 to August 2024, stored in a local folder. To optimize the process, we will dynamically create and assign names for each data frame corresponding to each CSV file. Additionally, we will verify the size of each data frame by counting the number of rows."
   ]
  },
  {
   "cell_type": "markdown",
   "id": "f4aeda5c",
   "metadata": {
    "papermill": {
     "duration": 0.023336,
     "end_time": "2024-09-25T00:00:38.218028",
     "exception": false,
     "start_time": "2024-09-25T00:00:38.194692",
     "status": "completed"
    },
    "tags": []
   },
   "source": [
    "## 1. Set the Folder Path:\n",
    "\n",
    "Define the folder path where the CSV files are stored on your local machine."
   ]
  },
  {
   "cell_type": "code",
   "execution_count": 2,
   "id": "1fca58e6",
   "metadata": {
    "execution": {
     "iopub.execute_input": "2024-09-25T00:00:38.302117Z",
     "iopub.status.busy": "2024-09-25T00:00:38.266334Z",
     "iopub.status.idle": "2024-09-25T00:00:38.315967Z",
     "shell.execute_reply": "2024-09-25T00:00:38.314065Z"
    },
    "papermill": {
     "duration": 0.078178,
     "end_time": "2024-09-25T00:00:38.319284",
     "exception": false,
     "start_time": "2024-09-25T00:00:38.241106",
     "status": "completed"
    },
    "tags": []
   },
   "outputs": [],
   "source": [
    "# Folder path of csv files\n",
    "folder_path <- '/kaggle/input/bike-share-dyvvy-tripdata-202309-202408'  "
   ]
  },
  {
   "cell_type": "markdown",
   "id": "fc79fbfa",
   "metadata": {
    "papermill": {
     "duration": 0.022973,
     "end_time": "2024-09-25T00:00:38.365178",
     "exception": false,
     "start_time": "2024-09-25T00:00:38.342205",
     "status": "completed"
    },
    "tags": []
   },
   "source": [
    "## 2. Get a List of CSV Files:\n",
    "\n",
    "Retrieve a list of all CSV files in the specified folder to ensure all required data is loaded."
   ]
  },
  {
   "cell_type": "code",
   "execution_count": 3,
   "id": "30cc416e",
   "metadata": {
    "execution": {
     "iopub.execute_input": "2024-09-25T00:00:38.415135Z",
     "iopub.status.busy": "2024-09-25T00:00:38.413447Z",
     "iopub.status.idle": "2024-09-25T00:00:38.432439Z",
     "shell.execute_reply": "2024-09-25T00:00:38.430553Z"
    },
    "papermill": {
     "duration": 0.047578,
     "end_time": "2024-09-25T00:00:38.435860",
     "exception": false,
     "start_time": "2024-09-25T00:00:38.388282",
     "status": "completed"
    },
    "tags": []
   },
   "outputs": [],
   "source": [
    "# Get names of files in folder\n",
    "file_list <- list.files(path = folder_path, pattern='csv', full.names = TRUE)\n",
    "# Count number of csv files\n",
    "number_of_csv_files <- length(file_list)"
   ]
  },
  {
   "cell_type": "markdown",
   "id": "9aaf7af2",
   "metadata": {
    "papermill": {
     "duration": 0.023137,
     "end_time": "2024-09-25T00:00:38.482134",
     "exception": false,
     "start_time": "2024-09-25T00:00:38.458997",
     "status": "completed"
    },
    "tags": []
   },
   "source": [
    "## 3. Loop through the Files to Create and Assign Data Frames Dynamically:\n",
    "\n",
    "1. Using a loop, dynamically create and assign data frames for each CSV file based on the filename.\n",
    "2. Count the number of rows in each data frame to verify the size of the dataset.\n"
   ]
  },
  {
   "cell_type": "code",
   "execution_count": 4,
   "id": "2c91b6b8",
   "metadata": {
    "execution": {
     "iopub.execute_input": "2024-09-25T00:00:38.532494Z",
     "iopub.status.busy": "2024-09-25T00:00:38.530773Z",
     "iopub.status.idle": "2024-09-25T00:02:20.174893Z",
     "shell.execute_reply": "2024-09-25T00:02:20.173032Z"
    },
    "papermill": {
     "duration": 101.695246,
     "end_time": "2024-09-25T00:02:20.200440",
     "exception": false,
     "start_time": "2024-09-25T00:00:38.505194",
     "status": "completed"
    },
    "tags": []
   },
   "outputs": [
    {
     "name": "stdout",
     "output_type": "stream",
     "text": [
      "Name of DataFrame: divvy_tripdata_1 \n",
      "'data.frame':\t666371 obs. of  13 variables:\n",
      " $ ride_id           : chr  \"011C1903BF4E2E28\" \"87DB80E048A1BF9F\" \"7C2EB7AF669066E3\" \"57D197B010269CE3\" ...\n",
      " $ rideable_type     : chr  \"classic_bike\" \"classic_bike\" \"electric_bike\" \"classic_bike\" ...\n",
      " $ started_at        : chr  \"2023-09-23 00:27:50\" \"2023-09-02 09:26:43\" \"2023-09-25 18:30:11\" \"2023-09-13 15:30:49\" ...\n",
      " $ ended_at          : chr  \"2023-09-23 00:33:27\" \"2023-09-02 09:38:19\" \"2023-09-25 18:41:39\" \"2023-09-13 15:39:18\" ...\n",
      " $ start_station_name: chr  \"Halsted St & Wrightwood Ave\" \"Clark St & Drummond Pl\" \"Financial Pl & Ida B Wells Dr\" \"Clark St & Drummond Pl\" ...\n",
      " $ start_station_id  : chr  \"TA1309000061\" \"TA1307000142\" \"SL-010\" \"TA1307000142\" ...\n",
      " $ end_station_name  : chr  \"Sheffield Ave & Wellington Ave\" \"Racine Ave & Fullerton Ave\" \"Racine Ave & 15th St\" \"Racine Ave & Belmont Ave\" ...\n",
      " $ end_station_id    : chr  \"TA1307000052\" \"TA1306000026\" \"13304\" \"TA1308000019\" ...\n",
      " $ start_lat         : num  41.9 41.9 41.9 41.9 41.9 ...\n",
      " $ start_lng         : num  -87.6 -87.6 -87.6 -87.6 -87.6 ...\n",
      " $ end_lat           : num  41.9 41.9 41.9 41.9 41.9 ...\n",
      " $ end_lng           : num  -87.7 -87.7 -87.7 -87.7 -87.7 ...\n",
      " $ member_casual     : chr  \"member\" \"member\" \"member\" \"member\" ...\n",
      "Name of DataFrame: divvy_tripdata_2 \n",
      "'data.frame':\t537113 obs. of  13 variables:\n",
      " $ ride_id           : chr  \"4449097279F8BBE7\" \"9CF060543CA7B439\" \"667F21F4D6BDE69C\" \"F92714CC6B019B96\" ...\n",
      " $ rideable_type     : chr  \"classic_bike\" \"electric_bike\" \"electric_bike\" \"classic_bike\" ...\n",
      " $ started_at        : chr  \"2023-10-08 10:36:26\" \"2023-10-11 17:23:59\" \"2023-10-12 07:02:33\" \"2023-10-24 19:13:03\" ...\n",
      " $ ended_at          : chr  \"2023-10-08 10:49:19\" \"2023-10-11 17:36:08\" \"2023-10-12 07:06:53\" \"2023-10-24 19:18:29\" ...\n",
      " $ start_station_name: chr  \"Orleans St & Chestnut St (NEXT Apts)\" \"Desplaines St & Kinzie St\" \"Orleans St & Chestnut St (NEXT Apts)\" \"Desplaines St & Kinzie St\" ...\n",
      " $ start_station_id  : chr  \"620\" \"TA1306000003\" \"620\" \"TA1306000003\" ...\n",
      " $ end_station_name  : chr  \"Sheffield Ave & Webster Ave\" \"Sheffield Ave & Webster Ave\" \"Franklin St & Lake St\" \"Franklin St & Lake St\" ...\n",
      " $ end_station_id    : chr  \"TA1309000033\" \"TA1309000033\" \"TA1307000111\" \"TA1307000111\" ...\n",
      " $ start_lat         : num  41.9 41.9 41.9 41.9 41.9 ...\n",
      " $ start_lng         : num  -87.6 -87.6 -87.6 -87.6 -87.6 ...\n",
      " $ end_lat           : num  41.9 41.9 41.9 41.9 41.9 ...\n",
      " $ end_lng           : num  -87.7 -87.7 -87.6 -87.6 -87.6 ...\n",
      " $ member_casual     : chr  \"member\" \"member\" \"member\" \"member\" ...\n",
      "Name of DataFrame: divvy_tripdata_3 \n",
      "'data.frame':\t362518 obs. of  13 variables:\n",
      " $ ride_id           : chr  \"4EAD8F1AD547356B\" \"6322270563BF5470\" \"B37BDE091ECA38E0\" \"CF0CA5DD26E4F90E\" ...\n",
      " $ rideable_type     : chr  \"electric_bike\" \"electric_bike\" \"electric_bike\" \"classic_bike\" ...\n",
      " $ started_at        : chr  \"2023-11-30 21:50:05\" \"2023-11-03 09:44:02\" \"2023-11-30 11:39:44\" \"2023-11-08 10:01:45\" ...\n",
      " $ ended_at          : chr  \"2023-11-30 22:13:27\" \"2023-11-03 10:17:15\" \"2023-11-30 11:40:08\" \"2023-11-08 10:27:05\" ...\n",
      " $ start_station_name: chr  \"Millennium Park\" \"Broadway & Sheridan Rd\" \"State St & Pearson St\" \"Theater on the Lake\" ...\n",
      " $ start_station_id  : chr  \"13008\" \"13323\" \"TA1307000061\" \"TA1308000001\" ...\n",
      " $ end_station_name  : chr  \"Pine Grove Ave & Waveland Ave\" \"Broadway & Sheridan Rd\" \"State St & Pearson St\" \"Theater on the Lake\" ...\n",
      " $ end_station_id    : chr  \"TA1307000150\" \"13323\" \"TA1307000061\" \"TA1308000001\" ...\n",
      " $ start_lat         : num  41.9 42 41.9 41.9 41.9 ...\n",
      " $ start_lng         : num  -87.6 -87.7 -87.6 -87.6 -87.6 ...\n",
      " $ end_lat           : num  41.9 42 41.9 41.9 41.9 ...\n",
      " $ end_lng           : num  -87.6 -87.6 -87.6 -87.6 -87.6 ...\n",
      " $ member_casual     : chr  \"member\" \"member\" \"member\" \"member\" ...\n",
      "Name of DataFrame: divvy_tripdata_4 \n",
      "'data.frame':\t224073 obs. of  13 variables:\n",
      " $ ride_id           : chr  \"C9BD54F578F57246\" \"CDBD92F067FA620E\" \"ABC0858E52CBFC84\" \"F44B6F0E8F76DC90\" ...\n",
      " $ rideable_type     : chr  \"electric_bike\" \"electric_bike\" \"electric_bike\" \"electric_bike\" ...\n",
      " $ started_at        : chr  \"2023-12-02 18:44:01\" \"2023-12-02 18:48:19\" \"2023-12-24 01:56:32\" \"2023-12-24 10:58:12\" ...\n",
      " $ ended_at          : chr  \"2023-12-02 18:47:51\" \"2023-12-02 18:54:48\" \"2023-12-24 02:04:09\" \"2023-12-24 11:03:04\" ...\n",
      " $ start_station_name: chr  \"\" \"\" \"\" \"\" ...\n",
      " $ start_station_id  : chr  \"\" \"\" \"\" \"\" ...\n",
      " $ end_station_name  : chr  \"\" \"\" \"\" \"\" ...\n",
      " $ end_station_id    : chr  \"\" \"\" \"\" \"\" ...\n",
      " $ start_lat         : num  41.9 41.9 41.9 42 41.9 ...\n",
      " $ start_lng         : num  -87.7 -87.7 -87.6 -87.7 -87.6 ...\n",
      " $ end_lat           : num  41.9 41.9 41.9 41.9 41.9 ...\n",
      " $ end_lng           : num  -87.7 -87.6 -87.6 -87.7 -87.6 ...\n",
      " $ member_casual     : chr  \"member\" \"member\" \"member\" \"member\" ...\n",
      "Name of DataFrame: divvy_tripdata_5 \n",
      "'data.frame':\t144873 obs. of  13 variables:\n",
      " $ ride_id           : chr  \"C1D650626C8C899A\" \"EECD38BDB25BFCB0\" \"F4A9CE78061F17F7\" \"0A0D9E15EE50B171\" ...\n",
      " $ rideable_type     : chr  \"electric_bike\" \"electric_bike\" \"electric_bike\" \"classic_bike\" ...\n",
      " $ started_at        : chr  \"2024-01-12 15:30:27\" \"2024-01-08 15:45:46\" \"2024-01-27 12:27:19\" \"2024-01-29 16:26:17\" ...\n",
      " $ ended_at          : chr  \"2024-01-12 15:37:59\" \"2024-01-08 15:52:59\" \"2024-01-27 12:35:19\" \"2024-01-29 16:56:06\" ...\n",
      " $ start_station_name: chr  \"Wells St & Elm St\" \"Wells St & Elm St\" \"Wells St & Elm St\" \"Wells St & Randolph St\" ...\n",
      " $ start_station_id  : chr  \"KA1504000135\" \"KA1504000135\" \"KA1504000135\" \"TA1305000030\" ...\n",
      " $ end_station_name  : chr  \"Kingsbury St & Kinzie St\" \"Kingsbury St & Kinzie St\" \"Kingsbury St & Kinzie St\" \"Larrabee St & Webster Ave\" ...\n",
      " $ end_station_id    : chr  \"KA1503000043\" \"KA1503000043\" \"KA1503000043\" \"13193\" ...\n",
      " $ start_lat         : num  41.9 41.9 41.9 41.9 41.9 ...\n",
      " $ start_lng         : num  -87.6 -87.6 -87.6 -87.6 -87.7 ...\n",
      " $ end_lat           : num  41.9 41.9 41.9 41.9 41.9 ...\n",
      " $ end_lng           : num  -87.6 -87.6 -87.6 -87.6 -87.6 ...\n",
      " $ member_casual     : chr  \"member\" \"member\" \"member\" \"member\" ...\n",
      "Name of DataFrame: divvy_tripdata_6 \n",
      "'data.frame':\t223164 obs. of  13 variables:\n",
      " $ ride_id           : chr  \"FCB05EB1758F85E8\" \"7FB986AD5D3DE9D6\" \"40CA13E15B5B470D\" \"D47A1660919E8861\" ...\n",
      " $ rideable_type     : chr  \"classic_bike\" \"classic_bike\" \"electric_bike\" \"classic_bike\" ...\n",
      " $ started_at        : chr  \"2024-02-03 14:14:18\" \"2024-02-05 21:10:06\" \"2024-02-05 15:10:44\" \"2024-02-15 12:40:34\" ...\n",
      " $ ended_at          : chr  \"2024-02-03 14:21:00\" \"2024-02-05 21:15:44\" \"2024-02-05 15:12:32\" \"2024-02-15 12:44:24\" ...\n",
      " $ start_station_name: chr  \"Clark St & Newport St\" \"Michigan Ave & Washington St\" \"Leavitt St & Armitage Ave\" \"Southport Ave & Waveland Ave\" ...\n",
      " $ start_station_id  : chr  \"632\" \"13001\" \"TA1309000029\" \"13235\" ...\n",
      " $ end_station_name  : chr  \"Southport Ave & Waveland Ave\" \"Wabash Ave & Grand Ave\" \"Milwaukee Ave & Wabansia Ave\" \"Southport Ave & Belmont Ave\" ...\n",
      " $ end_station_id    : chr  \"13235\" \"TA1307000117\" \"13243\" \"13229\" ...\n",
      " $ start_lat         : num  41.9 41.9 41.9 41.9 41.8 ...\n",
      " $ start_lng         : num  -87.7 -87.6 -87.7 -87.7 -87.6 ...\n",
      " $ end_lat           : num  41.9 41.9 41.9 41.9 41.8 ...\n",
      " $ end_lng           : num  -87.7 -87.6 -87.7 -87.7 -87.6 ...\n",
      " $ member_casual     : chr  \"member\" \"member\" \"member\" \"member\" ...\n",
      "Name of DataFrame: divvy_tripdata_7 \n",
      "'data.frame':\t301687 obs. of  13 variables:\n",
      " $ ride_id           : chr  \"64FBE3BAED5F29E6\" \"9991629435C5E20E\" \"E5C9FECD5B71BEBD\" \"4CEA3EC8906DAEA8\" ...\n",
      " $ rideable_type     : chr  \"electric_bike\" \"electric_bike\" \"electric_bike\" \"electric_bike\" ...\n",
      " $ started_at        : chr  \"2024-03-05 18:33:11\" \"2024-03-06 17:15:14\" \"2024-03-06 17:16:36\" \"2024-03-03 22:55:54\" ...\n",
      " $ ended_at          : chr  \"2024-03-05 18:51:48\" \"2024-03-06 17:16:04\" \"2024-03-06 17:19:28\" \"2024-03-03 22:58:08\" ...\n",
      " $ start_station_name: chr  \"\" \"\" \"\" \"\" ...\n",
      " $ start_station_id  : chr  \"\" \"\" \"\" \"\" ...\n",
      " $ end_station_name  : chr  \"\" \"\" \"\" \"\" ...\n",
      " $ end_station_id    : chr  \"\" \"\" \"\" \"\" ...\n",
      " $ start_lat         : num  41.9 41.9 41.9 41.9 41.9 ...\n",
      " $ start_lng         : num  -87.7 -87.6 -87.6 -87.6 -87.7 ...\n",
      " $ end_lat           : num  42 41.9 41.9 41.9 41.9 ...\n",
      " $ end_lng           : num  -87.7 -87.6 -87.6 -87.6 -87.7 ...\n",
      " $ member_casual     : chr  \"member\" \"member\" \"member\" \"member\" ...\n",
      "Name of DataFrame: divvy_tripdata_8 \n",
      "'data.frame':\t415025 obs. of  13 variables:\n",
      " $ ride_id           : chr  \"743252713F32516B\" \"BE90D33D2240C614\" \"D47BBDDE7C40DD61\" \"6684E760BF9EA9B5\" ...\n",
      " $ rideable_type     : chr  \"classic_bike\" \"electric_bike\" \"classic_bike\" \"classic_bike\" ...\n",
      " $ started_at        : chr  \"2024-04-22 19:08:21\" \"2024-04-11 06:19:24\" \"2024-04-20 11:13:13\" \"2024-04-04 18:39:20\" ...\n",
      " $ ended_at          : chr  \"2024-04-22 19:12:56\" \"2024-04-11 06:22:21\" \"2024-04-20 11:29:31\" \"2024-04-04 18:43:06\" ...\n",
      " $ start_station_name: chr  \"Aberdeen St & Jackson Blvd\" \"Aberdeen St & Jackson Blvd\" \"Sheridan Rd & Montrose Ave\" \"Aberdeen St & Jackson Blvd\" ...\n",
      " $ start_station_id  : chr  \"13157\" \"13157\" \"TA1307000107\" \"13157\" ...\n",
      " $ end_station_name  : chr  \"Desplaines St & Jackson Blvd\" \"Desplaines St & Jackson Blvd\" \"Ashland Ave & Belle Plaine Ave\" \"Desplaines St & Jackson Blvd\" ...\n",
      " $ end_station_id    : chr  \"15539\" \"15539\" \"13249\" \"15539\" ...\n",
      " $ start_lat         : num  41.9 41.9 42 41.9 42 ...\n",
      " $ start_lng         : num  -87.7 -87.7 -87.7 -87.7 -87.7 ...\n",
      " $ end_lat           : num  41.9 41.9 42 41.9 41.9 ...\n",
      " $ end_lng           : num  -87.6 -87.6 -87.7 -87.6 -87.6 ...\n",
      " $ member_casual     : chr  \"member\" \"member\" \"member\" \"member\" ...\n",
      "Name of DataFrame: divvy_tripdata_9 \n",
      "'data.frame':\t609493 obs. of  13 variables:\n",
      " $ ride_id           : chr  \"7D9F0CE9EC2A1297\" \"02EC47687411416F\" \"101370FB2D3402BE\" \"E97E396331ED6913\" ...\n",
      " $ rideable_type     : chr  \"classic_bike\" \"classic_bike\" \"classic_bike\" \"electric_bike\" ...\n",
      " $ started_at        : chr  \"2024-05-25 15:52:42\" \"2024-05-14 15:11:51\" \"2024-05-30 17:46:04\" \"2024-05-17 20:21:54\" ...\n",
      " $ ended_at          : chr  \"2024-05-25 16:11:50\" \"2024-05-14 15:22:00\" \"2024-05-30 18:09:16\" \"2024-05-17 20:40:32\" ...\n",
      " $ start_station_name: chr  \"Streeter Dr & Grand Ave\" \"Sheridan Rd & Greenleaf Ave\" \"Streeter Dr & Grand Ave\" \"Streeter Dr & Grand Ave\" ...\n",
      " $ start_station_id  : chr  \"13022\" \"KA1504000159\" \"13022\" \"13022\" ...\n",
      " $ end_station_name  : chr  \"Clark St & Elm St\" \"Sheridan Rd & Loyola Ave\" \"Wabash Ave & 9th St\" \"Sheffield Ave & Wellington Ave\" ...\n",
      " $ end_station_id    : chr  \"TA1307000039\" \"RP-009\" \"TA1309000010\" \"TA1307000052\" ...\n",
      " $ start_lat         : num  41.9 42 41.9 41.9 41.9 ...\n",
      " $ start_lng         : num  -87.6 -87.7 -87.6 -87.6 -87.6 ...\n",
      " $ end_lat           : num  41.9 42 41.9 41.9 41.9 ...\n",
      " $ end_lng           : num  -87.6 -87.7 -87.6 -87.7 -87.6 ...\n",
      " $ member_casual     : chr  \"casual\" \"casual\" \"member\" \"member\" ...\n",
      "Name of DataFrame: divvy_tripdata_10 \n",
      "'data.frame':\t710721 obs. of  13 variables:\n",
      " $ ride_id           : chr  \"CDE6023BE6B11D2F\" \"462B48CD292B6A18\" \"9CFB6A858D23ABF7\" \"6365EFEB64231153\" ...\n",
      " $ rideable_type     : chr  \"electric_bike\" \"electric_bike\" \"electric_bike\" \"electric_bike\" ...\n",
      " $ started_at        : chr  \"2024-06-11 17:20:06.289\" \"2024-06-11 17:19:21.567\" \"2024-06-11 17:25:27.089\" \"2024-06-11 11:53:50.769\" ...\n",
      " $ ended_at          : chr  \"2024-06-11 17:21:39.464\" \"2024-06-11 17:19:36.377\" \"2024-06-11 17:30:13.035\" \"2024-06-11 12:08:13.382\" ...\n",
      " $ start_station_name: chr  \"\" \"\" \"\" \"\" ...\n",
      " $ start_station_id  : chr  \"\" \"\" \"\" \"\" ...\n",
      " $ end_station_name  : chr  \"\" \"\" \"\" \"\" ...\n",
      " $ end_station_id    : chr  \"\" \"\" \"\" \"\" ...\n",
      " $ start_lat         : num  41.9 41.9 41.9 41.9 41.9 ...\n",
      " $ start_lng         : num  -87.7 -87.7 -87.7 -87.6 -87.6 ...\n",
      " $ end_lat           : num  41.9 41.9 41.9 41.9 41.9 ...\n",
      " $ end_lng           : num  -87.7 -87.7 -87.7 -87.6 -87.6 ...\n",
      " $ member_casual     : chr  \"casual\" \"casual\" \"casual\" \"casual\" ...\n",
      "Name of DataFrame: divvy_tripdata_11 \n",
      "'data.frame':\t748962 obs. of  13 variables:\n",
      " $ ride_id           : chr  \"2658E319B13141F9\" \"B2176315168A47CE\" \"C2A9D33DF7EBB422\" \"8BFEA406DF01D8AD\" ...\n",
      " $ rideable_type     : chr  \"electric_bike\" \"electric_bike\" \"electric_bike\" \"electric_bike\" ...\n",
      " $ started_at        : chr  \"2024-07-11 08:15:14.784\" \"2024-07-11 15:45:07.851\" \"2024-07-11 08:24:48.192\" \"2024-07-11 08:46:06.864\" ...\n",
      " $ ended_at          : chr  \"2024-07-11 08:17:56.335\" \"2024-07-11 16:06:04.243\" \"2024-07-11 08:28:05.237\" \"2024-07-11 09:14:11.664\" ...\n",
      " $ start_station_name: chr  \"\" \"\" \"\" \"\" ...\n",
      " $ start_station_id  : chr  \"\" \"\" \"\" \"\" ...\n",
      " $ end_station_name  : chr  \"\" \"\" \"\" \"\" ...\n",
      " $ end_station_id    : chr  \"\" \"\" \"\" \"\" ...\n",
      " $ start_lat         : num  41.8 41.8 41.8 41.9 42 ...\n",
      " $ start_lng         : num  -87.6 -87.6 -87.6 -87.6 -87.6 ...\n",
      " $ end_lat           : num  41.8 41.8 41.8 41.9 41.9 ...\n",
      " $ end_lng           : num  -87.6 -87.6 -87.6 -87.7 -87.6 ...\n",
      " $ member_casual     : chr  \"casual\" \"casual\" \"casual\" \"casual\" ...\n",
      "Name of DataFrame: divvy_tripdata_12 \n",
      "'data.frame':\t755639 obs. of  13 variables:\n",
      " $ ride_id           : chr  \"BAA154388A869E64\" \"8752245932EFF67A\" \"44DDF9F57A9A161F\" \"44AAAF069B0C78C3\" ...\n",
      " $ rideable_type     : chr  \"classic_bike\" \"electric_bike\" \"classic_bike\" \"electric_bike\" ...\n",
      " $ started_at        : chr  \"2024-08-02 13:35:14.403\" \"2024-08-02 15:33:13.965\" \"2024-08-16 15:44:06.233\" \"2024-08-19 18:47:11.855\" ...\n",
      " $ ended_at          : chr  \"2024-08-02 13:48:24.426\" \"2024-08-02 15:55:23.865\" \"2024-08-16 15:57:52.109\" \"2024-08-19 18:56:33.269\" ...\n",
      " $ start_station_name: chr  \"State St & Randolph St\" \"Franklin St & Monroe St\" \"Franklin St & Monroe St\" \"Clark St & Elm St\" ...\n",
      " $ start_station_id  : chr  \"TA1305000029\" \"TA1309000007\" \"TA1309000007\" \"TA1307000039\" ...\n",
      " $ end_station_name  : chr  \"Wabash Ave & 9th St\" \"Damen Ave & Cortland St\" \"Clark St & Elm St\" \"McClurg Ct & Ohio St\" ...\n",
      " $ end_station_id    : chr  \"TA1309000010\" \"13133\" \"TA1307000039\" \"TA1306000029\" ...\n",
      " $ start_lat         : num  41.9 41.9 41.9 41.9 42 ...\n",
      " $ start_lng         : num  -87.6 -87.6 -87.6 -87.6 -87.7 ...\n",
      " $ end_lat           : num  41.9 41.9 41.9 41.9 42 ...\n",
      " $ end_lng           : num  -87.6 -87.7 -87.6 -87.6 -87.7 ...\n",
      " $ member_casual     : chr  \"member\" \"member\" \"member\" \"member\" ...\n"
     ]
    },
    {
     "name": "stdout",
     "output_type": "stream",
     "text": [
      "Total of rows in all the dataframes 5699639 \n"
     ]
    }
   ],
   "source": [
    "# Initiate variables \n",
    "total_nrows<-i<- 0\n",
    "# Loop assigning df names per file uploaded \n",
    "for (x in file_list) {\n",
    "  i<-i+1\n",
    "  df_name <- paste('divvy_tripdata_',i, sep = \"\",collapse = NULL)\n",
    "  cat(\"Name of DataFrame:\", df_name, \"\\n\")\n",
    "  str(assign(df_name, read.csv(x, stringsAsFactors = FALSE)))\n",
    "  # Sum number of rows for each df\n",
    "  total_nrows <- total_nrows + (nrow(get(df_name)))\n",
    "}\n",
    "# Verify total of sum\n",
    "cat(\"Total of rows in all the dataframes\", total_nrows, \"\\n\")"
   ]
  },
  {
   "cell_type": "markdown",
   "id": "eaef82aa",
   "metadata": {
    "papermill": {
     "duration": 0.023936,
     "end_time": "2024-09-25T00:02:20.249015",
     "exception": false,
     "start_time": "2024-09-25T00:02:20.225079",
     "status": "completed"
    },
    "tags": []
   },
   "source": [
    "# Cleaning Data and Transforming\n",
    "\n",
    "In this section, we will verify the integrity of the data, combine the data from multiple files, and perform necessary transformations to prepare it for analysis. Below are the key steps:"
   ]
  },
  {
   "cell_type": "markdown",
   "id": "5a6885fd",
   "metadata": {
    "papermill": {
     "duration": 0.023644,
     "end_time": "2024-09-25T00:02:20.296463",
     "exception": false,
     "start_time": "2024-09-25T00:02:20.272819",
     "status": "completed"
    },
    "tags": []
   },
   "source": [
    "## \t1. Merge Data from Multiple Data Frames:\n",
    "\n",
    "After verifying that the column names and types are consistent across all 12 data frames, we proceed to merge them into one data frame for a unified analysis.\n"
   ]
  },
  {
   "cell_type": "code",
   "execution_count": 5,
   "id": "63a4bea9",
   "metadata": {
    "execution": {
     "iopub.execute_input": "2024-09-25T00:02:20.349524Z",
     "iopub.status.busy": "2024-09-25T00:02:20.347739Z",
     "iopub.status.idle": "2024-09-25T00:03:05.002610Z",
     "shell.execute_reply": "2024-09-25T00:03:05.000294Z"
    },
    "papermill": {
     "duration": 44.709231,
     "end_time": "2024-09-25T00:03:05.029259",
     "exception": false,
     "start_time": "2024-09-25T00:02:20.320028",
     "status": "completed"
    },
    "tags": []
   },
   "outputs": [
    {
     "name": "stdout",
     "output_type": "stream",
     "text": [
      "'data.frame':\t5699639 obs. of  13 variables:\n",
      " $ ride_id           : chr  \"011C1903BF4E2E28\" \"87DB80E048A1BF9F\" \"7C2EB7AF669066E3\" \"57D197B010269CE3\" ...\n",
      " $ rideable_type     : chr  \"classic_bike\" \"classic_bike\" \"electric_bike\" \"classic_bike\" ...\n",
      " $ started_at        : chr  \"2023-09-23 00:27:50\" \"2023-09-02 09:26:43\" \"2023-09-25 18:30:11\" \"2023-09-13 15:30:49\" ...\n",
      " $ ended_at          : chr  \"2023-09-23 00:33:27\" \"2023-09-02 09:38:19\" \"2023-09-25 18:41:39\" \"2023-09-13 15:39:18\" ...\n",
      " $ start_station_name: chr  \"Halsted St & Wrightwood Ave\" \"Clark St & Drummond Pl\" \"Financial Pl & Ida B Wells Dr\" \"Clark St & Drummond Pl\" ...\n",
      " $ start_station_id  : chr  \"TA1309000061\" \"TA1307000142\" \"SL-010\" \"TA1307000142\" ...\n",
      " $ end_station_name  : chr  \"Sheffield Ave & Wellington Ave\" \"Racine Ave & Fullerton Ave\" \"Racine Ave & 15th St\" \"Racine Ave & Belmont Ave\" ...\n",
      " $ end_station_id    : chr  \"TA1307000052\" \"TA1306000026\" \"13304\" \"TA1308000019\" ...\n",
      " $ start_lat         : num  41.9 41.9 41.9 41.9 41.9 ...\n",
      " $ start_lng         : num  -87.6 -87.6 -87.6 -87.6 -87.6 ...\n",
      " $ end_lat           : num  41.9 41.9 41.9 41.9 41.9 ...\n",
      " $ end_lng           : num  -87.7 -87.7 -87.7 -87.7 -87.7 ...\n",
      " $ member_casual     : chr  \"member\" \"member\" \"member\" \"member\" ...\n"
     ]
    }
   ],
   "source": [
    "# Initialize name of dataframe to append rows from one data frame to another\n",
    "merged_df <-divvy_tripdata_1\n",
    "# Loop appending dataframes\n",
    "for (x in 2:number_of_csv_files) {\n",
    "  data_to_append <- get(paste('divvy_tripdata_', x, sep = \"\"))\n",
    "  merged_df <- rbind(merged_df, data_to_append)\n",
    "}\n",
    "# Verify size, columns, types and first rows \n",
    "str(merged_df)"
   ]
  },
  {
   "cell_type": "markdown",
   "id": "4bbc7c26",
   "metadata": {
    "papermill": {
     "duration": 0.023771,
     "end_time": "2024-09-25T00:03:05.076827",
     "exception": false,
     "start_time": "2024-09-25T00:03:05.053056",
     "status": "completed"
    },
    "tags": []
   },
   "source": [
    "## 2. Find Unique Values in member_casual Column:\n",
    "\t\n",
    "We will check for any inconsistencies in the member_casual column to ensure that only the two expected categories (member, casual) are present."
   ]
  },
  {
   "cell_type": "code",
   "execution_count": 6,
   "id": "da686134",
   "metadata": {
    "execution": {
     "iopub.execute_input": "2024-09-25T00:03:05.128458Z",
     "iopub.status.busy": "2024-09-25T00:03:05.126738Z",
     "iopub.status.idle": "2024-09-25T00:03:05.831092Z",
     "shell.execute_reply": "2024-09-25T00:03:05.829142Z"
    },
    "papermill": {
     "duration": 0.733168,
     "end_time": "2024-09-25T00:03:05.833993",
     "exception": false,
     "start_time": "2024-09-25T00:03:05.100825",
     "status": "completed"
    },
    "tags": []
   },
   "outputs": [
    {
     "data": {
      "text/plain": [
       "\n",
       " casual  member \n",
       "2045724 3653915 "
      ]
     },
     "metadata": {},
     "output_type": "display_data"
    }
   ],
   "source": [
    "# Find values of type of member\n",
    "unique_values_member <- unique(merged_df$member_casual)\n",
    "# Get in table total of each type of member\n",
    "table(merged_df$member_casual)"
   ]
  },
  {
   "cell_type": "markdown",
   "id": "f1d8e134",
   "metadata": {
    "papermill": {
     "duration": 0.024628,
     "end_time": "2024-09-25T00:03:05.882703",
     "exception": false,
     "start_time": "2024-09-25T00:03:05.858075",
     "status": "completed"
    },
    "tags": []
   },
   "source": [
    "## 3.\tFind Unique Values in rideable_type Column\n",
    "\n",
    "We will check for any inconsistencies in the rideable_type column to ensure that only the two expected categories (classic_bike and electric_bike) are present. Additionally, we will count the number of rows corresponding to each type to verify that the data is correctly categorized."
   ]
  },
  {
   "cell_type": "code",
   "execution_count": 7,
   "id": "80b7a4e8",
   "metadata": {
    "execution": {
     "iopub.execute_input": "2024-09-25T00:03:05.972787Z",
     "iopub.status.busy": "2024-09-25T00:03:05.970977Z",
     "iopub.status.idle": "2024-09-25T00:03:08.009211Z",
     "shell.execute_reply": "2024-09-25T00:03:08.007277Z"
    },
    "papermill": {
     "duration": 2.067217,
     "end_time": "2024-09-25T00:03:08.011883",
     "exception": false,
     "start_time": "2024-09-25T00:03:05.944666",
     "status": "completed"
    },
    "tags": []
   },
   "outputs": [
    {
     "data": {
      "text/plain": [
       "\n",
       " classic_bike electric_bike \n",
       "      2818288       2881351 "
      ]
     },
     "metadata": {},
     "output_type": "display_data"
    }
   ],
   "source": [
    "# Find values of type of bikes\n",
    "unique_ride_type <- unique(merged_df$rideable_type)\n",
    "# Get in table total of each type of bikes used in the sample\n",
    "table(merged_df$rideable_type)"
   ]
  },
  {
   "cell_type": "markdown",
   "id": "6843fb7f",
   "metadata": {
    "papermill": {
     "duration": 0.024501,
     "end_time": "2024-09-25T00:03:08.060384",
     "exception": false,
     "start_time": "2024-09-25T00:03:08.035883",
     "status": "completed"
    },
    "tags": []
   },
   "source": [
    "## 4. Change Date Format:\n",
    "\n",
    "The started_at and ended_at columns, which are currently in character format, will be converted to POSIXct date-time objects for easier manipulation and analysis."
   ]
  },
  {
   "cell_type": "code",
   "execution_count": 8,
   "id": "1a3b2420",
   "metadata": {
    "execution": {
     "iopub.execute_input": "2024-09-25T00:03:08.113950Z",
     "iopub.status.busy": "2024-09-25T00:03:08.112267Z",
     "iopub.status.idle": "2024-09-25T00:03:24.637022Z",
     "shell.execute_reply": "2024-09-25T00:03:24.634765Z"
    },
    "papermill": {
     "duration": 16.554537,
     "end_time": "2024-09-25T00:03:24.640217",
     "exception": false,
     "start_time": "2024-09-25T00:03:08.085680",
     "status": "completed"
    },
    "tags": []
   },
   "outputs": [
    {
     "name": "stdout",
     "output_type": "stream",
     "text": [
      " POSIXct[1:5699639], format: \"2023-09-23 00:27:50\" \"2023-09-02 09:26:43\" \"2023-09-25 18:30:11\" ...\n"
     ]
    },
    {
     "name": "stdout",
     "output_type": "stream",
     "text": [
      " POSIXct[1:5699639], format: \"2023-09-23 00:33:27\" \"2023-09-02 09:38:19\" \"2023-09-25 18:41:39\" ...\n"
     ]
    }
   ],
   "source": [
    "# Change format in order to be able to make calculations \n",
    "merged_df$started_at <- as.POSIXct(merged_df$started_at, format = \"%Y-%m-%d %H:%M:%S\")\n",
    "merged_df$ended_at <- as.POSIXct(merged_df$ended_at, format = \"%Y-%m-%d %H:%M:%S\")\n",
    "# Verify changes\n",
    "str(merged_df$started_at)\n",
    "str(merged_df$ended_at)"
   ]
  },
  {
   "cell_type": "markdown",
   "id": "ff14ad1c",
   "metadata": {
    "papermill": {
     "duration": 0.025038,
     "end_time": "2024-09-25T00:03:24.690077",
     "exception": false,
     "start_time": "2024-09-25T00:03:24.665039",
     "status": "completed"
    },
    "tags": []
   },
   "source": [
    "## 5.\tExtract Date Components:\n",
    "\n",
    "We will create new columns to represent the day, month, year,  day of the week, and started hour for each trip to facilitate deeper time-based analysis."
   ]
  },
  {
   "cell_type": "code",
   "execution_count": 9,
   "id": "6db37ea0",
   "metadata": {
    "execution": {
     "iopub.execute_input": "2024-09-25T00:03:24.742823Z",
     "iopub.status.busy": "2024-09-25T00:03:24.741106Z",
     "iopub.status.idle": "2024-09-25T00:03:47.798257Z",
     "shell.execute_reply": "2024-09-25T00:03:47.795937Z"
    },
    "papermill": {
     "duration": 23.087175,
     "end_time": "2024-09-25T00:03:47.801707",
     "exception": false,
     "start_time": "2024-09-25T00:03:24.714532",
     "status": "completed"
    },
    "tags": []
   },
   "outputs": [
    {
     "name": "stdout",
     "output_type": "stream",
     "text": [
      "'data.frame':\t5699639 obs. of  18 variables:\n",
      " $ ride_id            : chr  \"011C1903BF4E2E28\" \"87DB80E048A1BF9F\" \"7C2EB7AF669066E3\" \"57D197B010269CE3\" ...\n",
      " $ rideable_type      : chr  \"classic_bike\" \"classic_bike\" \"electric_bike\" \"classic_bike\" ...\n",
      " $ started_at         : POSIXct, format: \"2023-09-23 00:27:50\" \"2023-09-02 09:26:43\" ...\n",
      " $ ended_at           : POSIXct, format: \"2023-09-23 00:33:27\" \"2023-09-02 09:38:19\" ...\n",
      " $ start_station_name : chr  \"Halsted St & Wrightwood Ave\" \"Clark St & Drummond Pl\" \"Financial Pl & Ida B Wells Dr\" \"Clark St & Drummond Pl\" ...\n",
      " $ start_station_id   : chr  \"TA1309000061\" \"TA1307000142\" \"SL-010\" \"TA1307000142\" ...\n",
      " $ end_station_name   : chr  \"Sheffield Ave & Wellington Ave\" \"Racine Ave & Fullerton Ave\" \"Racine Ave & 15th St\" \"Racine Ave & Belmont Ave\" ...\n",
      " $ end_station_id     : chr  \"TA1307000052\" \"TA1306000026\" \"13304\" \"TA1308000019\" ...\n",
      " $ start_lat          : num  41.9 41.9 41.9 41.9 41.9 ...\n",
      " $ start_lng          : num  -87.6 -87.6 -87.6 -87.6 -87.6 ...\n",
      " $ end_lat            : num  41.9 41.9 41.9 41.9 41.9 ...\n",
      " $ end_lng            : num  -87.7 -87.7 -87.7 -87.7 -87.7 ...\n",
      " $ member_casual      : chr  \"member\" \"member\" \"member\" \"member\" ...\n",
      " $ day                : int  23 2 25 13 18 15 27 17 17 7 ...\n",
      " $ month              : int  9 9 9 9 9 9 9 9 9 9 ...\n",
      " $ year               : int  2023 2023 2023 2023 2023 2023 2023 2023 2023 2023 ...\n",
      " $ day_of_week        : chr  \"Sat\" \"Sat\" \"Mon\" \"Wed\" ...\n",
      " $ started_hour_of_day: int  0 9 18 15 15 20 16 11 11 20 ...\n"
     ]
    }
   ],
   "source": [
    "# Extract each compoments \n",
    "merged_df$day <- as.integer(format(merged_df$started_at, \"%d\"))\n",
    "merged_df$month <- as.integer(format(merged_df$started_at, \"%m\")) \n",
    "merged_df$year <- as.integer(format(merged_df$started_at, \"%Y\")) \n",
    "merged_df$day_of_week <- format(as.Date(merged_df$started_at), \"%a\")\n",
    "merged_df$started_hour_of_day <- as.integer(format(merged_df$started_at, \"%H\"))\n",
    "# Verify new columns\n",
    "str(merged_df)"
   ]
  },
  {
   "cell_type": "markdown",
   "id": "fe08caba",
   "metadata": {
    "papermill": {
     "duration": 0.024943,
     "end_time": "2024-09-25T00:03:47.851639",
     "exception": false,
     "start_time": "2024-09-25T00:03:47.826696",
     "status": "completed"
    },
    "tags": []
   },
   "source": [
    "## 6.\tCalculate Ride Length in Minutes:\n",
    "\n",
    "We will create a new column called ride_length that calculates the trip duration in minutes, based on the difference between the started_at and ended_at columns."
   ]
  },
  {
   "cell_type": "code",
   "execution_count": 10,
   "id": "21fe74e3",
   "metadata": {
    "execution": {
     "iopub.execute_input": "2024-09-25T00:03:47.905373Z",
     "iopub.status.busy": "2024-09-25T00:03:47.903635Z",
     "iopub.status.idle": "2024-09-25T00:03:47.995024Z",
     "shell.execute_reply": "2024-09-25T00:03:47.992499Z"
    },
    "papermill": {
     "duration": 0.121087,
     "end_time": "2024-09-25T00:03:47.997861",
     "exception": false,
     "start_time": "2024-09-25T00:03:47.876774",
     "status": "completed"
    },
    "tags": []
   },
   "outputs": [
    {
     "name": "stdout",
     "output_type": "stream",
     "text": [
      " 'difftime' num [1:5699639] 5.61666666666667 11.6 11.4666666666667 8.48333333333333 ...\n",
      " - attr(*, \"units\")= chr \"mins\"\n"
     ]
    }
   ],
   "source": [
    "# Aggregate ride length to df\n",
    "merged_df$ride_length <- difftime(merged_df$ended_at,merged_df$started_at, units = \"mins\")\n",
    "# Verify column\n",
    "str(merged_df$ride_length )"
   ]
  },
  {
   "cell_type": "markdown",
   "id": "627a4cf8",
   "metadata": {
    "papermill": {
     "duration": 0.025726,
     "end_time": "2024-09-25T00:03:48.050650",
     "exception": false,
     "start_time": "2024-09-25T00:03:48.024924",
     "status": "completed"
    },
    "tags": []
   },
   "source": [
    "## 7.\tCheck for Null Values in start_station_id:\n",
    "\n",
    "We will check if there are any missing or NA values in the ride_length column and handle them appropriately.\n"
   ]
  },
  {
   "cell_type": "code",
   "execution_count": 11,
   "id": "30075c0b",
   "metadata": {
    "execution": {
     "iopub.execute_input": "2024-09-25T00:03:48.106621Z",
     "iopub.status.busy": "2024-09-25T00:03:48.104703Z",
     "iopub.status.idle": "2024-09-25T00:03:52.386491Z",
     "shell.execute_reply": "2024-09-25T00:03:52.384076Z"
    },
    "papermill": {
     "duration": 4.312333,
     "end_time": "2024-09-25T00:03:52.389313",
     "exception": false,
     "start_time": "2024-09-25T00:03:48.076980",
     "status": "completed"
    },
    "tags": []
   },
   "outputs": [
    {
     "name": "stdout",
     "output_type": "stream",
     "text": [
      "Number of empty or NA values in start_station_id: 968697 \n"
     ]
    },
    {
     "name": "stdout",
     "output_type": "stream",
     "text": [
      "Number of empty or NA values in ended_station_id: 1006133 \n"
     ]
    }
   ],
   "source": [
    "# Count the number of NA or empty string (\"\") values in start_station_id\n",
    "null_va_start <- sum(is.na(merged_df$start_station_id) | merged_df$start_station_id == \"\")\n",
    "null_va_end <- sum(is.na(merged_df$end_station_id) | merged_df$end_station_id == \"\")\n",
    "# Print the result\n",
    "cat(\"Number of empty or NA values in start_station_id:\", null_va_start, \"\\n\")\n",
    "cat(\"Number of empty or NA values in ended_station_id:\", null_va_end, \"\\n\")"
   ]
  },
  {
   "cell_type": "markdown",
   "id": "c4fb4eb8",
   "metadata": {
    "papermill": {
     "duration": 0.025187,
     "end_time": "2024-09-25T00:03:52.439864",
     "exception": false,
     "start_time": "2024-09-25T00:03:52.414677",
     "status": "completed"
    },
    "tags": []
   },
   "source": [
    "## 8. Remove null values in start_station_name and end_station_name:\n",
    "\n",
    "To ensure data accuracy and completeness, we will remove any rows where start_station_id or end_station_id contain null (NA) or empty (\"\") values. These fields are essential for the analysis, and any missing or incomplete values could affect the results."
   ]
  },
  {
   "cell_type": "code",
   "execution_count": 12,
   "id": "ed71b7fa",
   "metadata": {
    "execution": {
     "iopub.execute_input": "2024-09-25T00:03:52.494146Z",
     "iopub.status.busy": "2024-09-25T00:03:52.492381Z",
     "iopub.status.idle": "2024-09-25T00:03:53.253813Z",
     "shell.execute_reply": "2024-09-25T00:03:53.251374Z"
    },
    "papermill": {
     "duration": 0.792479,
     "end_time": "2024-09-25T00:03:53.257367",
     "exception": false,
     "start_time": "2024-09-25T00:03:52.464888",
     "status": "completed"
    },
    "tags": []
   },
   "outputs": [
    {
     "name": "stdout",
     "output_type": "stream",
     "text": [
      "Number of rows deleted 1502022 \n"
     ]
    }
   ],
   "source": [
    "# Create new df  without start_station_id null values\n",
    "merged_df_V2 <- merged_df %>%\n",
    "  filter((!is.na(start_station_name) & start_station_name != \"\") & \n",
    "         (!is.na(end_station_name) & end_station_name != \"\"))\n",
    "\n",
    "# Verify number of Rows removed \n",
    "cat(\"Number of rows deleted\",nrow(merged_df)-nrow(merged_df_V2), \"\\n\")"
   ]
  },
  {
   "cell_type": "markdown",
   "id": "2a8cdec5",
   "metadata": {
    "papermill": {
     "duration": 0.026542,
     "end_time": "2024-09-25T00:03:53.309350",
     "exception": false,
     "start_time": "2024-09-25T00:03:53.282808",
     "status": "completed"
    },
    "tags": []
   },
   "source": [
    "## 9. Aggregate Route name:\n",
    "\n",
    "We will create a new column by combining the start_station_name and end_station_name to define a unique route for each trip."
   ]
  },
  {
   "cell_type": "code",
   "execution_count": 13,
   "id": "c8687b17",
   "metadata": {
    "execution": {
     "iopub.execute_input": "2024-09-25T00:03:53.364096Z",
     "iopub.status.busy": "2024-09-25T00:03:53.362359Z",
     "iopub.status.idle": "2024-09-25T00:03:55.150353Z",
     "shell.execute_reply": "2024-09-25T00:03:55.147918Z"
    },
    "papermill": {
     "duration": 1.818395,
     "end_time": "2024-09-25T00:03:55.153351",
     "exception": false,
     "start_time": "2024-09-25T00:03:53.334956",
     "status": "completed"
    },
    "tags": []
   },
   "outputs": [
    {
     "name": "stdout",
     "output_type": "stream",
     "text": [
      "'data.frame':\t4197617 obs. of  20 variables:\n",
      " $ ride_id            : chr  \"011C1903BF4E2E28\" \"87DB80E048A1BF9F\" \"7C2EB7AF669066E3\" \"57D197B010269CE3\" ...\n",
      " $ rideable_type      : chr  \"classic_bike\" \"classic_bike\" \"electric_bike\" \"classic_bike\" ...\n",
      " $ started_at         : POSIXct, format: \"2023-09-23 00:27:50\" \"2023-09-02 09:26:43\" ...\n",
      " $ ended_at           : POSIXct, format: \"2023-09-23 00:33:27\" \"2023-09-02 09:38:19\" ...\n",
      " $ start_station_name : chr  \"Halsted St & Wrightwood Ave\" \"Clark St & Drummond Pl\" \"Financial Pl & Ida B Wells Dr\" \"Clark St & Drummond Pl\" ...\n",
      " $ start_station_id   : chr  \"TA1309000061\" \"TA1307000142\" \"SL-010\" \"TA1307000142\" ...\n",
      " $ end_station_name   : chr  \"Sheffield Ave & Wellington Ave\" \"Racine Ave & Fullerton Ave\" \"Racine Ave & 15th St\" \"Racine Ave & Belmont Ave\" ...\n",
      " $ end_station_id     : chr  \"TA1307000052\" \"TA1306000026\" \"13304\" \"TA1308000019\" ...\n",
      " $ start_lat          : num  41.9 41.9 41.9 41.9 41.9 ...\n",
      " $ start_lng          : num  -87.6 -87.6 -87.6 -87.6 -87.6 ...\n",
      " $ end_lat            : num  41.9 41.9 41.9 41.9 41.9 ...\n",
      " $ end_lng            : num  -87.7 -87.7 -87.7 -87.7 -87.7 ...\n",
      " $ member_casual      : chr  \"member\" \"member\" \"member\" \"member\" ...\n",
      " $ day                : int  23 2 25 13 18 17 12 24 28 22 ...\n",
      " $ month              : int  9 9 9 9 9 9 9 9 9 9 ...\n",
      " $ year               : int  2023 2023 2023 2023 2023 2023 2023 2023 2023 2023 ...\n",
      " $ day_of_week        : chr  \"Sat\" \"Sat\" \"Mon\" \"Wed\" ...\n",
      " $ started_hour_of_day: int  0 9 18 15 15 11 16 13 18 12 ...\n",
      " $ ride_length        : 'difftime' num  5.61666666666667 11.6 11.4666666666667 8.48333333333333 ...\n",
      "  ..- attr(*, \"units\")= chr \"mins\"\n",
      " $ route_id           : chr  \"Halsted St & Wrightwood Ave To\\nSheffield Ave & Wellington Ave\" \"Clark St & Drummond Pl To\\nRacine Ave & Fullerton Ave\" \"Financial Pl & Ida B Wells Dr To\\nRacine Ave & 15th St\" \"Clark St & Drummond Pl To\\nRacine Ave & Belmont Ave\" ...\n"
     ]
    }
   ],
   "source": [
    "# Aggregate  route_id, which is the combination of start_station_name and end_station_name\n",
    "merged_df_V2$route_id <- paste(merged_df_V2$start_station_name, \n",
    "                               merged_df_V2$end_station_name, sep = ' To\\n')\n",
    "# Verify Column and values \n",
    "str(merged_df_V2)"
   ]
  },
  {
   "cell_type": "markdown",
   "id": "f970b654",
   "metadata": {
    "papermill": {
     "duration": 0.02538,
     "end_time": "2024-09-25T00:03:55.204268",
     "exception": false,
     "start_time": "2024-09-25T00:03:55.178888",
     "status": "completed"
    },
    "tags": []
   },
   "source": [
    "## 10.\tCheck for Null Values in ride_length:\n",
    "\n",
    "We will check if there are any missing or NA values in the ride_length column and handle them appropriately.\n"
   ]
  },
  {
   "cell_type": "code",
   "execution_count": 14,
   "id": "a347e20e",
   "metadata": {
    "execution": {
     "iopub.execute_input": "2024-09-25T00:03:55.259487Z",
     "iopub.status.busy": "2024-09-25T00:03:55.257728Z",
     "iopub.status.idle": "2024-09-25T00:03:55.300124Z",
     "shell.execute_reply": "2024-09-25T00:03:55.297882Z"
    },
    "papermill": {
     "duration": 0.072789,
     "end_time": "2024-09-25T00:03:55.302903",
     "exception": false,
     "start_time": "2024-09-25T00:03:55.230114",
     "status": "completed"
    },
    "tags": []
   },
   "outputs": [
    {
     "name": "stdout",
     "output_type": "stream",
     "text": [
      "Are there any NA values in 'ride_length' column? FALSE \n"
     ]
    }
   ],
   "source": [
    "# Assign variable to null values in ride length \n",
    "any_na <- any(is.na(merged_df$ride_length))\n",
    "# Print whether NA values exist\n",
    "cat(\"Are there any NA values in 'ride_length' column?\", any_na, \"\\n\")"
   ]
  },
  {
   "cell_type": "markdown",
   "id": "da87139e",
   "metadata": {
    "papermill": {
     "duration": 0.025342,
     "end_time": "2024-09-25T00:03:55.354630",
     "exception": false,
     "start_time": "2024-09-25T00:03:55.329288",
     "status": "completed"
    },
    "tags": []
   },
   "source": [
    "## 11.\tRemove Negative Values in ride_length:\n",
    "\n",
    "We will identify and remove any records where ride_length is negative, as these indicate data errors or inconsistencies. Additionally, we will count the number of rows before and after removing these records to ensure the data has been cleaned appropriately.\n"
   ]
  },
  {
   "cell_type": "code",
   "execution_count": 15,
   "id": "4a51e196",
   "metadata": {
    "execution": {
     "iopub.execute_input": "2024-09-25T00:03:55.409787Z",
     "iopub.status.busy": "2024-09-25T00:03:55.407914Z",
     "iopub.status.idle": "2024-09-25T00:04:03.843413Z",
     "shell.execute_reply": "2024-09-25T00:04:03.841196Z"
    },
    "papermill": {
     "duration": 8.466438,
     "end_time": "2024-09-25T00:04:03.846466",
     "exception": false,
     "start_time": "2024-09-25T00:03:55.380028",
     "status": "completed"
    },
    "tags": []
   },
   "outputs": [
    {
     "name": "stdout",
     "output_type": "stream",
     "text": [
      "min value ride_length: -16656.52 \n"
     ]
    },
    {
     "name": "stdout",
     "output_type": "stream",
     "text": [
      "number of rows deleted: 59 \n"
     ]
    },
    {
     "name": "stdout",
     "output_type": "stream",
     "text": [
      "min value in ride_length: -54.56667 \n"
     ]
    }
   ],
   "source": [
    "# Print min value of ride_length , and number of rows in df\n",
    "cat(\"min value ride_length:\",min(merged_df$ride_length), \"\\n\")\n",
    "# Create a new df with the rows removed that the length of ride < 0 \n",
    "merged_df_V3 <- merged_df_V2[merged_df_V2$ride_length >= 0, ]\n",
    "# Print number of row remained without mistake\n",
    "cat(\"number of rows deleted:\",nrow(merged_df_V2)-nrow(merged_df_V3), \"\\n\")\n",
    "# Print to verify \n",
    "cat(\"min value in ride_length:\",min(merged_df_V2$ride_length), \"\\n\")"
   ]
  },
  {
   "cell_type": "markdown",
   "id": "d6b98f84",
   "metadata": {
    "papermill": {
     "duration": 0.025505,
     "end_time": "2024-09-25T00:04:03.898141",
     "exception": false,
     "start_time": "2024-09-25T00:04:03.872636",
     "status": "completed"
    },
    "tags": []
   },
   "source": [
    "## 12. Aggregate column Season:\n",
    "\n",
    "We create a new column Season, which will label each trip based on the month in which the trip occurred. This will allow us to analyze patterns in bike usage across different seasons.\n"
   ]
  },
  {
   "cell_type": "code",
   "execution_count": 16,
   "id": "ed90d70e",
   "metadata": {
    "execution": {
     "iopub.execute_input": "2024-09-25T00:04:03.954194Z",
     "iopub.status.busy": "2024-09-25T00:04:03.952318Z",
     "iopub.status.idle": "2024-09-25T00:04:06.402524Z",
     "shell.execute_reply": "2024-09-25T00:04:06.399769Z"
    },
    "papermill": {
     "duration": 2.481857,
     "end_time": "2024-09-25T00:04:06.406114",
     "exception": false,
     "start_time": "2024-09-25T00:04:03.924257",
     "status": "completed"
    },
    "tags": []
   },
   "outputs": [
    {
     "data": {
      "text/html": [
       "<style>\n",
       ".list-inline {list-style: none; margin:0; padding: 0}\n",
       ".list-inline>li {display: inline-block}\n",
       ".list-inline>li:not(:last-child)::after {content: \"\\00b7\"; padding: 0 .5ex}\n",
       "</style>\n",
       "<ol class=list-inline><li>'Fall'</li><li>'Winter'</li><li>'Spring'</li><li>'Summer'</li></ol>\n"
      ],
      "text/latex": [
       "\\begin{enumerate*}\n",
       "\\item 'Fall'\n",
       "\\item 'Winter'\n",
       "\\item 'Spring'\n",
       "\\item 'Summer'\n",
       "\\end{enumerate*}\n"
      ],
      "text/markdown": [
       "1. 'Fall'\n",
       "2. 'Winter'\n",
       "3. 'Spring'\n",
       "4. 'Summer'\n",
       "\n",
       "\n"
      ],
      "text/plain": [
       "[1] \"Fall\"   \"Winter\" \"Spring\" \"Summer\""
      ]
     },
     "metadata": {},
     "output_type": "display_data"
    }
   ],
   "source": [
    "# Create column season \n",
    "merged_df_V3 <- merged_df_V3 %>%\n",
    "  mutate(season = case_when(\n",
    "    month %in% c(12, 1, 2) ~ \"Winter\",\n",
    "    month %in% c(3, 4, 5) ~ \"Spring\",    \n",
    "    month %in% c(6, 7, 8) ~ \"Summer\",    \n",
    "    month %in% c(9, 10, 11) ~ \"Fall\"\n",
    "  ))\n",
    "# Verify \n",
    " unique(merged_df_V3$season)"
   ]
  },
  {
   "cell_type": "markdown",
   "id": "12f66c35",
   "metadata": {
    "papermill": {
     "duration": 0.026294,
     "end_time": "2024-09-25T00:04:06.458649",
     "exception": false,
     "start_time": "2024-09-25T00:04:06.432355",
     "status": "completed"
    },
    "tags": []
   },
   "source": [
    "## 13. Summary Statistics to Identify Inconsistencies in Ride Lengths:\n",
    "\n",
    "We will analyze ride lengths to identify potential inconsistencies in the data. Some recorded rides appear to have unusually long durations (e.g., over 1,000 minutes) or unusually short durations (e.g., less than 1 minute). These values could indicate data errors or outliers. To address this, we will compute basic summary statistics, such as the mean, median, maximum, and minimum ride lengths, and analyze these inconsistencies by member type."
   ]
  },
  {
   "cell_type": "code",
   "execution_count": 17,
   "id": "3fff693a",
   "metadata": {
    "execution": {
     "iopub.execute_input": "2024-09-25T00:04:06.515021Z",
     "iopub.status.busy": "2024-09-25T00:04:06.513244Z",
     "iopub.status.idle": "2024-09-25T00:04:07.455110Z",
     "shell.execute_reply": "2024-09-25T00:04:07.452837Z"
    },
    "papermill": {
     "duration": 0.973595,
     "end_time": "2024-09-25T00:04:07.458431",
     "exception": false,
     "start_time": "2024-09-25T00:04:06.484836",
     "status": "completed"
    },
    "tags": []
   },
   "outputs": [
    {
     "name": "stdout",
     "output_type": "stream",
     "text": [
      "  mean_ride_length median_ride_length max_ride_length min_ride_length\n",
      "1    16.61325 mins          10.1 mins   1509.367 mins          0 mins\n"
     ]
    }
   ],
   "source": [
    "#Create summary \n",
    "summary_stats_all_ride_length<- merged_df_V3 %>%\n",
    "  summarize(\n",
    "    mean_ride_length = mean(ride_length),\n",
    "    median_ride_length = median(ride_length),\n",
    "    max_ride_length = max(ride_length),\n",
    "    min_ride_length = min(ride_length)\n",
    "  )\n",
    "# Display summary\n",
    "print(summary_stats_all_ride_length)"
   ]
  },
  {
   "cell_type": "markdown",
   "id": "d72b9930",
   "metadata": {
    "papermill": {
     "duration": 0.0268,
     "end_time": "2024-09-25T00:04:07.512051",
     "exception": false,
     "start_time": "2024-09-25T00:04:07.485251",
     "status": "completed"
    },
    "tags": []
   },
   "source": [
    "## 14. Detecting Outliers and Inconsistencies by Member Type:\n",
    "\n",
    "Outliers and inconsistencies in ride length can skew the analysis and lead to misleading conclusions. To identify these outliers, we compare the ride length distributions for casual and member users using a density plot. This helps us visually detect values that are unusually high or low for typical rides, which may represent errors or anomalies in the data.\n"
   ]
  },
  {
   "cell_type": "code",
   "execution_count": 18,
   "id": "35e3f4eb",
   "metadata": {
    "execution": {
     "iopub.execute_input": "2024-09-25T00:04:07.569637Z",
     "iopub.status.busy": "2024-09-25T00:04:07.567877Z",
     "iopub.status.idle": "2024-09-25T00:04:17.487053Z",
     "shell.execute_reply": "2024-09-25T00:04:17.484819Z"
    },
    "papermill": {
     "duration": 9.951496,
     "end_time": "2024-09-25T00:04:17.490052",
     "exception": false,
     "start_time": "2024-09-25T00:04:07.538556",
     "status": "completed"
    },
    "tags": []
   },
   "outputs": [
    {
     "name": "stderr",
     "output_type": "stream",
     "text": [
      "Warning message:\n",
      "“\u001b[1m\u001b[22mRemoved 45894 rows containing non-finite outside the scale range\n",
      "(`stat_density()`).”\n"
     ]
    },
    {
     "data": {
      "image/png": "[encoded data removed]"
     },
     "metadata": {
      "image/png": {
       "height": 420,
       "width": 420
      }
     },
     "output_type": "display_data"
    }
   ],
   "source": [
    "# Density plot to compare ride length distributions for casual and member users\n",
    "ggplot(merged_df_V3, aes(x = ride_length, fill = member_casual)) +\n",
    "  geom_density(alpha = 0.6) +\n",
    "  scale_fill_manual(values = c(\"blue\", \"red\")) +\n",
    "  labs(title = \"Density Plot of Ride Lengths for Casual vs Members\",\n",
    "       x = \"Ride Length (minutes)\",\n",
    "       y = \"Density\",\n",
    "       fill = \"User Type\") +\n",
    "   # Set limit to exclude extreme outliers\n",
    "  xlim(0, 100) "
   ]
  },
  {
   "cell_type": "markdown",
   "id": "eca35127",
   "metadata": {
    "papermill": {
     "duration": 0.028181,
     "end_time": "2024-09-25T00:04:17.546192",
     "exception": false,
     "start_time": "2024-09-25T00:04:17.518011",
     "status": "completed"
    },
    "tags": []
   },
   "source": [
    "## 15. Removing Outliers to Clean the Data:\n",
    "\n",
    "After identifying extreme outliers, we will clean the dataset by removing rides longer than 100 minutes and shorter than 1 minute. This step ensures that outliers, which are likely data errors, do not distort the analysis. The cleaned dataset, merged_df_V4, will contain only valid rides. Once the dataset is filtered, we will recalculate the summary statistics to provide a more accurate representation of the ride data."
   ]
  },
  {
   "cell_type": "code",
   "execution_count": 19,
   "id": "83f52b1c",
   "metadata": {
    "execution": {
     "iopub.execute_input": "2024-09-25T00:04:17.606272Z",
     "iopub.status.busy": "2024-09-25T00:04:17.603935Z",
     "iopub.status.idle": "2024-09-25T00:04:20.700936Z",
     "shell.execute_reply": "2024-09-25T00:04:20.698517Z"
    },
    "papermill": {
     "duration": 3.130261,
     "end_time": "2024-09-25T00:04:20.704340",
     "exception": false,
     "start_time": "2024-09-25T00:04:17.574079",
     "status": "completed"
    },
    "tags": []
   },
   "outputs": [
    {
     "name": "stdout",
     "output_type": "stream",
     "text": [
      "  mean_ride_length median_ride_length max_ride_length min_ride_length\n",
      "1    14.54352 mins      10.13333 mins   99.98333 mins   1.016667 mins\n"
     ]
    }
   ],
   "source": [
    "#  Create new dataframe  removing outliers. \n",
    "merged_df_V4 <- merged_df_V3 %>%\n",
    "  filter(ride_length < 100 & ride_length > 1)\n",
    "\n",
    "# Summary merged_df_V4\n",
    "summary_stats<- merged_df_V4 %>%\n",
    "  summarize(\n",
    "    mean_ride_length = mean(ride_length),\n",
    "    median_ride_length = median(ride_length),\n",
    "    max_ride_length = max(ride_length),\n",
    "    min_ride_length = min(ride_length)\n",
    "  )\n",
    "# Display summary\n",
    "print(summary_stats)"
   ]
  },
  {
   "cell_type": "code",
   "execution_count": 20,
   "id": "85eec2b9",
   "metadata": {
    "execution": {
     "iopub.execute_input": "2024-09-25T00:04:20.764577Z",
     "iopub.status.busy": "2024-09-25T00:04:20.762809Z",
     "iopub.status.idle": "2024-09-25T00:04:22.775904Z",
     "shell.execute_reply": "2024-09-25T00:04:22.773821Z"
    },
    "papermill": {
     "duration": 2.047689,
     "end_time": "2024-09-25T00:04:22.779760",
     "exception": false,
     "start_time": "2024-09-25T00:04:20.732071",
     "status": "completed"
    },
    "tags": []
   },
   "outputs": [],
   "source": [
    "# Capitalize the first letter of User type\n",
    "merged_df_V4$member_casual <- str_to_title(merged_df_V4$member_casual)\n",
    "# Rename Column\n",
    "colnames(merged_df_V4)[colnames(merged_df_V4) == \"member_casual\"] <- \"User_Type\"\n"
   ]
  },
  {
   "cell_type": "markdown",
   "id": "d2b361b4",
   "metadata": {
    "papermill": {
     "duration": 0.029921,
     "end_time": "2024-09-25T00:04:22.837914",
     "exception": false,
     "start_time": "2024-09-25T00:04:22.807993",
     "status": "completed"
    },
    "tags": []
   },
   "source": [
    "## Save DataFrame in File "
   ]
  },
  {
   "cell_type": "code",
   "execution_count": 21,
   "id": "8a03c11b",
   "metadata": {
    "execution": {
     "iopub.execute_input": "2024-09-25T00:04:22.898667Z",
     "iopub.status.busy": "2024-09-25T00:04:22.896708Z",
     "iopub.status.idle": "2024-09-25T00:04:22.911704Z",
     "shell.execute_reply": "2024-09-25T00:04:22.909720Z"
    },
    "papermill": {
     "duration": 0.049396,
     "end_time": "2024-09-25T00:04:22.915412",
     "exception": false,
     "start_time": "2024-09-25T00:04:22.866016",
     "status": "completed"
    },
    "tags": []
   },
   "outputs": [],
   "source": [
    "#write.csv(merged_df_V4, file = '/Users/nataliacancino/Library/CloudStorage/GoogleDrive-natalia.cancino.garcia@gmail.com/My\\ Drive/GOOGLE\\ DATA\\ ANALYTICS/Case\\ of\\ Study\\ A\\ /CleanedDataCase.csv', row.names = FALSE)"
   ]
  },
  {
   "cell_type": "markdown",
   "id": "114890e4",
   "metadata": {
    "papermill": {
     "duration": 0.02896,
     "end_time": "2024-09-25T00:04:22.972003",
     "exception": false,
     "start_time": "2024-09-25T00:04:22.943043",
     "status": "completed"
    },
    "tags": []
   },
   "source": [
    "# Descriptive Analysis and Visualization\n",
    "\n",
    "In this section, we will perform a comprehensive analysis of Cyclistic’s historical bike trip data to better understand rider behaviors and patterns. The goal is to uncover key insights into ride length and how it varies between members and casual users, as well as identify any significant differences in bike usage across different days of the week. This analysis will help us build a clearer picture of how different rider types engage with Cyclistic’s services, providing valuable information for targeted marketing strategies."
   ]
  },
  {
   "cell_type": "markdown",
   "id": "e118de27",
   "metadata": {
    "papermill": {
     "duration": 0.029814,
     "end_time": "2024-09-25T00:04:23.030119",
     "exception": false,
     "start_time": "2024-09-25T00:04:23.000305",
     "status": "completed"
    },
    "tags": []
   },
   "source": [
    "## 1. Statistical Analysis of Ride Length:\n",
    "\n",
    "We will calculate the mean, median, maximum, and minimum values of ride_length (in minutes) for the entire dataset to gain a better understanding of the overall distribution of trip durations.\n"
   ]
  },
  {
   "cell_type": "code",
   "execution_count": 22,
   "id": "88ccd49c",
   "metadata": {
    "execution": {
     "iopub.execute_input": "2024-09-25T00:04:23.091179Z",
     "iopub.status.busy": "2024-09-25T00:04:23.089380Z",
     "iopub.status.idle": "2024-09-25T00:04:23.853746Z",
     "shell.execute_reply": "2024-09-25T00:04:23.851118Z"
    },
    "papermill": {
     "duration": 0.79839,
     "end_time": "2024-09-25T00:04:23.857195",
     "exception": false,
     "start_time": "2024-09-25T00:04:23.058805",
     "status": "completed"
    },
    "tags": []
   },
   "outputs": [
    {
     "name": "stdout",
     "output_type": "stream",
     "text": [
      "  mean_ride_length median_ride_length max_ride_length min_ride_length\n",
      "1    14.54352 mins      10.13333 mins   99.98333 mins   1.016667 mins\n"
     ]
    }
   ],
   "source": [
    "# Get Summary from statistics in cleaned dataframe of the ride_length mean, median, maximum,and minimum values \n",
    "summary_stats_all<- merged_df_V4 %>%\n",
    "  summarize(\n",
    "    mean_ride_length = mean(ride_length),\n",
    "    median_ride_length = median(ride_length),\n",
    "    max_ride_length = max(ride_length),\n",
    "    min_ride_length = min(ride_length)\n",
    "  )\n",
    "# Display summary\n",
    "print(summary_stats_all)"
   ]
  },
  {
   "cell_type": "markdown",
   "id": "4708b75b",
   "metadata": {
    "papermill": {
     "duration": 0.027988,
     "end_time": "2024-09-25T00:04:23.913049",
     "exception": false,
     "start_time": "2024-09-25T00:04:23.885061",
     "status": "completed"
    },
    "tags": []
   },
   "source": [
    "• Over the past 12 months, users have biked for an average of approximately 15 minutes, and the median ride length is 10 min."
   ]
  },
  {
   "cell_type": "markdown",
   "id": "5dbf22f8",
   "metadata": {
    "papermill": {
     "duration": 0.028187,
     "end_time": "2024-09-25T00:04:23.969243",
     "exception": false,
     "start_time": "2024-09-25T00:04:23.941056",
     "status": "completed"
    },
    "tags": []
   },
   "source": [
    "## 2. Statistical Analysis of Ride Length (Members vs Casual Users):\n",
    "\n",
    "We will break down the ride length statistics by comparing members and casual users. This includes calculating the mean, median, maximum, and minimum ride lengths for each user group."
   ]
  },
  {
   "cell_type": "code",
   "execution_count": 23,
   "id": "4d73197c",
   "metadata": {
    "execution": {
     "iopub.execute_input": "2024-09-25T00:04:24.029873Z",
     "iopub.status.busy": "2024-09-25T00:04:24.028047Z",
     "iopub.status.idle": "2024-09-25T00:04:25.052539Z",
     "shell.execute_reply": "2024-09-25T00:04:25.049955Z"
    },
    "papermill": {
     "duration": 1.058436,
     "end_time": "2024-09-25T00:04:25.055966",
     "exception": false,
     "start_time": "2024-09-25T00:04:23.997530",
     "status": "completed"
    },
    "tags": []
   },
   "outputs": [
    {
     "name": "stdout",
     "output_type": "stream",
     "text": [
      "\u001b[90m# A tibble: 2 × 5\u001b[39m\n",
      "  User_Type mean_ride_length median_ride_length max_ride_length min_ride_length\n",
      "  \u001b[3m\u001b[90m<chr>\u001b[39m\u001b[23m     \u001b[3m\u001b[90m<drtn>\u001b[39m\u001b[23m           \u001b[3m\u001b[90m<drtn>\u001b[39m\u001b[23m             \u001b[3m\u001b[90m<drtn>\u001b[39m\u001b[23m          \u001b[3m\u001b[90m<drtn>\u001b[39m\u001b[23m         \n",
      "\u001b[90m1\u001b[39m Casual    19.36938 mins    13.216667 mins     99.98333 mins   1.016667 mins  \n",
      "\u001b[90m2\u001b[39m Member    11.96546 mins     8.916667 mins     99.98333 mins   1.016667 mins  \n"
     ]
    }
   ],
   "source": [
    "# Get statistics in cleaned df of the ride_length mean, median, maximum, \n",
    "#and minimum values grouped by member type\n",
    "summary_stats_member_type_ride_length <- merged_df_V4 %>%\n",
    "  group_by(User_Type) %>%\n",
    "  summarize(\n",
    "    mean_ride_length = mean(ride_length),\n",
    "    median_ride_length = median(ride_length),\n",
    "    max_ride_length = max(ride_length),\n",
    "    min_ride_length = min(ride_length)\n",
    "  )\n",
    "# Display summary\n",
    "print(summary_stats_member_type_ride_length)\n"
   ]
  },
  {
   "cell_type": "markdown",
   "id": "4f8c413a",
   "metadata": {
    "papermill": {
     "duration": 0.028246,
     "end_time": "2024-09-25T00:04:25.112230",
     "exception": false,
     "start_time": "2024-09-25T00:04:25.083984",
     "status": "completed"
    },
    "tags": []
   },
   "source": [
    "• On average, casual users ride for approximately 13 minutes, while members ride for around 12 minutes. However, the maximum and minimum ride lengths do not show a significant difference between the two groups.\n"
   ]
  },
  {
   "cell_type": "markdown",
   "id": "92fcf47d",
   "metadata": {
    "papermill": {
     "duration": 0.027792,
     "end_time": "2024-09-25T00:04:25.168802",
     "exception": false,
     "start_time": "2024-09-25T00:04:25.141010",
     "status": "completed"
    },
    "tags": []
   },
   "source": [
    "## 3. Average Ride Time by Day of the Week (Members vs Casual Users):\n",
    "\n",
    "We will analyze the average ride time for each day of the week, comparing members and casual users to identify differences in usage patterns based on the day.\n"
   ]
  },
  {
   "cell_type": "code",
   "execution_count": 24,
   "id": "41ec14f9",
   "metadata": {
    "execution": {
     "iopub.execute_input": "2024-09-25T00:04:25.228564Z",
     "iopub.status.busy": "2024-09-25T00:04:25.226702Z",
     "iopub.status.idle": "2024-09-25T00:04:26.875813Z",
     "shell.execute_reply": "2024-09-25T00:04:26.873092Z"
    },
    "papermill": {
     "duration": 1.682436,
     "end_time": "2024-09-25T00:04:26.879173",
     "exception": false,
     "start_time": "2024-09-25T00:04:25.196737",
     "status": "completed"
    },
    "tags": []
   },
   "outputs": [
    {
     "name": "stderr",
     "output_type": "stream",
     "text": [
      "\u001b[1m\u001b[22m`summarise()` has grouped output by 'User_Type'. You can override using the\n",
      "`.groups` argument.\n"
     ]
    },
    {
     "name": "stdout",
     "output_type": "stream",
     "text": [
      "\u001b[90m# A tibble: 14 × 3\u001b[39m\n",
      "\u001b[90m# Groups:   User_Type [2]\u001b[39m\n",
      "   User_Type day_of_week avg_ride_length\n",
      "   \u001b[3m\u001b[90m<chr>\u001b[39m\u001b[23m     \u001b[3m\u001b[90m<ord>\u001b[39m\u001b[23m       \u001b[3m\u001b[90m<drtn>\u001b[39m\u001b[23m         \n",
      "\u001b[90m 1\u001b[39m Casual    Sun         22.02344 mins  \n",
      "\u001b[90m 2\u001b[39m Casual    Sat         21.95604 mins  \n",
      "\u001b[90m 3\u001b[39m Casual    Fri         18.71460 mins  \n",
      "\u001b[90m 4\u001b[39m Casual    Mon         18.66888 mins  \n",
      "\u001b[90m 5\u001b[39m Casual    Wed         17.18730 mins  \n",
      "\u001b[90m 6\u001b[39m Casual    Thu         16.94907 mins  \n",
      "\u001b[90m 7\u001b[39m Casual    Tue         16.89563 mins  \n",
      "\u001b[90m 8\u001b[39m Member    Sat         13.41975 mins  \n",
      "\u001b[90m 9\u001b[39m Member    Sun         13.39945 mins  \n",
      "\u001b[90m10\u001b[39m Member    Fri         11.67735 mins  \n",
      "\u001b[90m11\u001b[39m Member    Wed         11.63015 mins  \n",
      "\u001b[90m12\u001b[39m Member    Thu         11.43419 mins  \n",
      "\u001b[90m13\u001b[39m Member    Tue         11.43268 mins  \n",
      "\u001b[90m14\u001b[39m Member    Mon         11.40203 mins  \n"
     ]
    }
   ],
   "source": [
    "# Order data frame by day of the week \n",
    "merged_df_V4$day_of_week <- ordered(merged_df_V4$day_of_week, \n",
    "                        levels=c(\"Sun\", \"Mon\", \"Tue\", \"Wed\", \"Thu\", \"Fri\", \"Sat\"))\n",
    "# Get average ride time by day of the week \n",
    "avg_ride_time_by_weekday <- merged_df_V4 %>% group_by(User_Type,day_of_week)%>% \n",
    "  summarise(avg_ride_length= mean(ride_length))%>% \n",
    "  arrange(desc(avg_ride_length))\n",
    "# Display results \n",
    "print(avg_ride_time_by_weekday)\n"
   ]
  },
  {
   "cell_type": "markdown",
   "id": "d1d09144",
   "metadata": {
    "papermill": {
     "duration": 0.028697,
     "end_time": "2024-09-25T00:04:26.936296",
     "exception": false,
     "start_time": "2024-09-25T00:04:26.907599",
     "status": "completed"
    },
    "tags": []
   },
   "source": [
    "### 3.1  Plotting Average Ride Time by Day of the Week Members vs Casual Users:"
   ]
  },
  {
   "cell_type": "code",
   "execution_count": 25,
   "id": "0ad17a79",
   "metadata": {
    "execution": {
     "iopub.execute_input": "2024-09-25T00:04:26.997313Z",
     "iopub.status.busy": "2024-09-25T00:04:26.995460Z",
     "iopub.status.idle": "2024-09-25T00:04:27.565952Z",
     "shell.execute_reply": "2024-09-25T00:04:27.562658Z"
    },
    "papermill": {
     "duration": 0.605124,
     "end_time": "2024-09-25T00:04:27.569658",
     "exception": false,
     "start_time": "2024-09-25T00:04:26.964534",
     "status": "completed"
    },
    "tags": []
   },
   "outputs": [
    {
     "name": "stderr",
     "output_type": "stream",
     "text": [
      "\u001b[1m\u001b[22mDon't know how to automatically pick scale for object of type \u001b[34m<difftime>\u001b[39m.\n",
      "Defaulting to continuous.\n"
     ]
    },
    {
     "data": {
      "image/png": "[encoded data removed]"
     },
     "metadata": {
      "image/png": {
       "height": 420,
       "width": 420
      }
     },
     "output_type": "display_data"
    }
   ],
   "source": [
    "ggplot(avg_ride_time_by_weekday, aes(x = day_of_week, y = avg_ride_length, fill = User_Type)) +\n",
    "  geom_bar(stat = \"identity\", position = \"dodge\") +\n",
    "  labs(title = \"Average Ride Length by User Type and Day of the Week\",\n",
    "       x = \"Day of Week\", \n",
    "       y = \"Average Length Rides\", \n",
    "       fill = \"Type of User\") +\n",
    "  theme(legend.position = \"right\",\n",
    "         plot.title = element_text(hjust = 0.5, face = \"bold\"))\n"
   ]
  },
  {
   "cell_type": "markdown",
   "id": "b3ac2581",
   "metadata": {
    "papermill": {
     "duration": 0.029532,
     "end_time": "2024-09-25T00:04:27.628724",
     "exception": false,
     "start_time": "2024-09-25T00:04:27.599192",
     "status": "completed"
    },
    "tags": []
   },
   "source": [
    "• We observed that casual riders consistently have longer rides than members throughout the week. Both casual riders and members tend to have longer rides on weekends, with a noticeable tendency for both groups to take longer trips from Friday through Monday compared to the rest of the week.\n"
   ]
  },
  {
   "cell_type": "markdown",
   "id": "98cbc47a",
   "metadata": {
    "papermill": {
     "duration": 0.029592,
     "end_time": "2024-09-25T00:04:27.688025",
     "exception": false,
     "start_time": "2024-09-25T00:04:27.658433",
     "status": "completed"
    },
    "tags": []
   },
   "source": [
    "## 4. Average Ride Time by (Members vs Casual Users) for (classic_bike vs electric_bike):\n",
    "\n",
    "This analysis will break down the average ride time for members and casual users, specifically for the two types of bikes: classic_bike and electric_bike. The goal is to explore if bike type influences trip duration among different user groups."
   ]
  },
  {
   "cell_type": "code",
   "execution_count": 26,
   "id": "12d4edca",
   "metadata": {
    "execution": {
     "iopub.execute_input": "2024-09-25T00:04:27.751301Z",
     "iopub.status.busy": "2024-09-25T00:04:27.749507Z",
     "iopub.status.idle": "2024-09-25T00:04:28.037695Z",
     "shell.execute_reply": "2024-09-25T00:04:28.035157Z"
    },
    "papermill": {
     "duration": 0.323215,
     "end_time": "2024-09-25T00:04:28.041081",
     "exception": false,
     "start_time": "2024-09-25T00:04:27.717866",
     "status": "completed"
    },
    "tags": []
   },
   "outputs": [
    {
     "name": "stderr",
     "output_type": "stream",
     "text": [
      "\u001b[1m\u001b[22m`summarise()` has grouped output by 'User_Type'. You can override using the\n",
      "`.groups` argument.\n"
     ]
    },
    {
     "name": "stdout",
     "output_type": "stream",
     "text": [
      "\u001b[90m# A tibble: 4 × 3\u001b[39m\n",
      "\u001b[90m# Groups:   User_Type [2]\u001b[39m\n",
      "  User_Type rideable_type avg_ride_length\n",
      "  \u001b[3m\u001b[90m<chr>\u001b[39m\u001b[23m     \u001b[3m\u001b[90m<chr>\u001b[39m\u001b[23m         \u001b[3m\u001b[90m<drtn>\u001b[39m\u001b[23m         \n",
      "\u001b[90m1\u001b[39m Casual    classic_bike  21.68923 mins  \n",
      "\u001b[90m2\u001b[39m Casual    electric_bike 15.00653 mins  \n",
      "\u001b[90m3\u001b[39m Member    classic_bike  12.58360 mins  \n",
      "\u001b[90m4\u001b[39m Member    electric_bike 10.66179 mins  \n"
     ]
    }
   ],
   "source": [
    "# Get average ride_length by member and bike type\n",
    "average_ride_by_member_and_type <- merged_df_V4 %>% group_by(User_Type, rideable_type) %>% \n",
    "  summarize(avg_ride_length = mean(ride_length))\n",
    "# Display values\n",
    "print(average_ride_by_member_and_type)"
   ]
  },
  {
   "cell_type": "markdown",
   "id": "4809a71e",
   "metadata": {
    "papermill": {
     "duration": 0.031661,
     "end_time": "2024-09-25T00:04:28.103556",
     "exception": false,
     "start_time": "2024-09-25T00:04:28.071895",
     "status": "completed"
    },
    "tags": []
   },
   "source": [
    "### 4.1. Plotting Average Ride Time by (Members vs Casual Users) for (classic_bike vs electric_bike):\n"
   ]
  },
  {
   "cell_type": "code",
   "execution_count": 27,
   "id": "e09fb293",
   "metadata": {
    "execution": {
     "iopub.execute_input": "2024-09-25T00:04:28.167103Z",
     "iopub.status.busy": "2024-09-25T00:04:28.165307Z",
     "iopub.status.idle": "2024-09-25T00:04:28.519284Z",
     "shell.execute_reply": "2024-09-25T00:04:28.517213Z"
    },
    "papermill": {
     "duration": 0.388737,
     "end_time": "2024-09-25T00:04:28.522029",
     "exception": false,
     "start_time": "2024-09-25T00:04:28.133292",
     "status": "completed"
    },
    "tags": []
   },
   "outputs": [
    {
     "name": "stderr",
     "output_type": "stream",
     "text": [
      "\u001b[1m\u001b[22mDon't know how to automatically pick scale for object of type \u001b[34m<difftime>\u001b[39m.\n",
      "Defaulting to continuous.\n"
     ]
    },
    {
     "data": {
      "image/png": "[encoded data removed]"
     },
     "metadata": {
      "image/png": {
       "height": 420,
       "width": 420
      }
     },
     "output_type": "display_data"
    }
   ],
   "source": [
    "ggplot(average_ride_by_member_and_type, aes(x = rideable_type, y = avg_ride_length, fill = User_Type)) +\n",
    "  geom_bar(stat = \"identity\", position = \"dodge\") +\n",
    "  labs(title = \"Average Ride Time by User Type and Bike Type\",\n",
    "       x = \"Type of Bike\", \n",
    "       y = \"Average Rides Time (min)\", \n",
    "       fill = \"Type of User\") +\n",
    "  theme(legend.position = \"right\",\n",
    "         plot.title = element_text(hjust = 0.5, face = \"bold\"))"
   ]
  },
  {
   "cell_type": "markdown",
   "id": "a763d9b3",
   "metadata": {
    "papermill": {
     "duration": 0.030379,
     "end_time": "2024-09-25T00:04:28.583076",
     "exception": false,
     "start_time": "2024-09-25T00:04:28.552697",
     "status": "completed"
    },
    "tags": []
   },
   "source": [
    "• We observed that casual users tend to ride classic bikes for about 10 minutes longer than members. Both members and casual users prefer classic bikes over electric bikes, which is likely influenced by bike availability at stations, as there are typically more classic bikes available than electric ones."
   ]
  },
  {
   "cell_type": "markdown",
   "id": "bdaa65e8",
   "metadata": {
    "papermill": {
     "duration": 0.030358,
     "end_time": "2024-09-25T00:04:28.643839",
     "exception": false,
     "start_time": "2024-09-25T00:04:28.613481",
     "status": "completed"
    },
    "tags": []
   },
   "source": [
    "## 5. Percentage of Rides by Day of the Week for Members vs. Casual Users:\n",
    "\n",
    "We will calculate the percentage of rides taken on each day of the week, distinguishing between members and casual users."
   ]
  },
  {
   "cell_type": "code",
   "execution_count": 28,
   "id": "e60c468a",
   "metadata": {
    "execution": {
     "iopub.execute_input": "2024-09-25T00:04:28.708834Z",
     "iopub.status.busy": "2024-09-25T00:04:28.707029Z",
     "iopub.status.idle": "2024-09-25T00:04:28.934848Z",
     "shell.execute_reply": "2024-09-25T00:04:28.932462Z"
    },
    "papermill": {
     "duration": 0.263539,
     "end_time": "2024-09-25T00:04:28.937774",
     "exception": false,
     "start_time": "2024-09-25T00:04:28.674235",
     "status": "completed"
    },
    "tags": []
   },
   "outputs": [
    {
     "name": "stdout",
     "output_type": "stream",
     "text": [
      "\u001b[90m# A tibble: 14 × 4\u001b[39m\n",
      "\u001b[90m# Groups:   day_of_week [7]\u001b[39m\n",
      "   User_Type day_of_week number_of_rides percentage_rides\n",
      "   \u001b[3m\u001b[90m<chr>\u001b[39m\u001b[23m     \u001b[3m\u001b[90m<ord>\u001b[39m\u001b[23m                 \u001b[3m\u001b[90m<int>\u001b[39m\u001b[23m            \u001b[3m\u001b[90m<dbl>\u001b[39m\u001b[23m\n",
      "\u001b[90m 1\u001b[39m Member    Tue                  \u001b[4m4\u001b[24m\u001b[4m1\u001b[24m\u001b[4m5\u001b[24m750             72.9\n",
      "\u001b[90m 2\u001b[39m Member    Wed                  \u001b[4m4\u001b[24m\u001b[4m4\u001b[24m\u001b[4m0\u001b[24m382             71.5\n",
      "\u001b[90m 3\u001b[39m Member    Thu                  \u001b[4m4\u001b[24m\u001b[4m1\u001b[24m\u001b[4m9\u001b[24m664             70.8\n",
      "\u001b[90m 4\u001b[39m Member    Mon                  \u001b[4m3\u001b[24m\u001b[4m8\u001b[24m\u001b[4m0\u001b[24m804             70.2\n",
      "\u001b[90m 5\u001b[39m Member    Fri                  \u001b[4m3\u001b[24m\u001b[4m7\u001b[24m\u001b[4m9\u001b[24m317             64.2\n",
      "\u001b[90m 6\u001b[39m Member    Sun                  \u001b[4m2\u001b[24m\u001b[4m9\u001b[24m\u001b[4m3\u001b[24m672             54.6\n",
      "\u001b[90m 7\u001b[39m Member    Sat                  \u001b[4m3\u001b[24m\u001b[4m4\u001b[24m\u001b[4m0\u001b[24m254             52.7\n",
      "\u001b[90m 8\u001b[39m Casual    Sat                  \u001b[4m3\u001b[24m\u001b[4m0\u001b[24m\u001b[4m5\u001b[24m109             47.3\n",
      "\u001b[90m 9\u001b[39m Casual    Sun                  \u001b[4m2\u001b[24m\u001b[4m4\u001b[24m\u001b[4m4\u001b[24m346             45.4\n",
      "\u001b[90m10\u001b[39m Casual    Fri                  \u001b[4m2\u001b[24m\u001b[4m1\u001b[24m\u001b[4m1\u001b[24m076             35.8\n",
      "\u001b[90m11\u001b[39m Casual    Mon                  \u001b[4m1\u001b[24m\u001b[4m6\u001b[24m\u001b[4m1\u001b[24m736             29.8\n",
      "\u001b[90m12\u001b[39m Casual    Thu                  \u001b[4m1\u001b[24m\u001b[4m7\u001b[24m\u001b[4m3\u001b[24m241             29.2\n",
      "\u001b[90m13\u001b[39m Casual    Wed                  \u001b[4m1\u001b[24m\u001b[4m7\u001b[24m\u001b[4m5\u001b[24m946             28.5\n",
      "\u001b[90m14\u001b[39m Casual    Tue                  \u001b[4m1\u001b[24m\u001b[4m5\u001b[24m\u001b[4m4\u001b[24m825             27.1\n"
     ]
    }
   ],
   "source": [
    "# Get the percentage of rides by weekday, differentiated by member type\n",
    "num_of_rides_by_day_memb <- merged_df_V4 %>%\n",
    "  group_by(User_Type,day_of_week) %>% \n",
    "  summarize(number_of_rides = n(), .groups = 'drop') %>% group_by(day_of_week) %>%\n",
    "  mutate(percentage_rides = (number_of_rides / sum(number_of_rides))*100) %>% \n",
    "  arrange(desc(percentage_rides))   \n",
    "\n",
    "# Display results\n",
    "print(num_of_rides_by_day_memb)"
   ]
  },
  {
   "cell_type": "markdown",
   "id": "61749cf4",
   "metadata": {
    "papermill": {
     "duration": 0.031001,
     "end_time": "2024-09-25T00:04:28.999499",
     "exception": false,
     "start_time": "2024-09-25T00:04:28.968498",
     "status": "completed"
    },
    "tags": []
   },
   "source": [
    "### 5.1 Plotting Percentage of Rides by Day of the Week for Members vs Casual Users:\n"
   ]
  },
  {
   "cell_type": "code",
   "execution_count": 29,
   "id": "805998f2",
   "metadata": {
    "execution": {
     "iopub.execute_input": "2024-09-25T00:04:29.067562Z",
     "iopub.status.busy": "2024-09-25T00:04:29.065550Z",
     "iopub.status.idle": "2024-09-25T00:04:29.447360Z",
     "shell.execute_reply": "2024-09-25T00:04:29.445065Z"
    },
    "papermill": {
     "duration": 0.417676,
     "end_time": "2024-09-25T00:04:29.450340",
     "exception": false,
     "start_time": "2024-09-25T00:04:29.032664",
     "status": "completed"
    },
    "tags": []
   },
   "outputs": [
    {
     "data": {
      "image/png": "[encoded data removed]"
     },
     "metadata": {
      "image/png": {
       "height": 420,
       "width": 420
      }
     },
     "output_type": "display_data"
    }
   ],
   "source": [
    "# plot percentage of ride \n",
    "ggplot(num_of_rides_by_day_memb, aes(x = day_of_week, y = percentage_rides, fill = User_Type)) +\n",
    "  geom_bar(stat = \"identity\", position = \"dodge\") +\n",
    "  labs(title = \"Percentage of Rides by Day of the Week and User Type\",\n",
    "       x = \"Day of the Week\", \n",
    "       y = \"Percentage of Rides\",\n",
    "       fill = \"Type of User\")+\n",
    "  theme(legend.position = \"right\",\n",
    "         plot.title = element_text(hjust = 0.5, face = \"bold\"))"
   ]
  },
  {
   "cell_type": "markdown",
   "id": "ca51a6d4",
   "metadata": {
    "papermill": {
     "duration": 0.031392,
     "end_time": "2024-09-25T00:04:29.513338",
     "exception": false,
     "start_time": "2024-09-25T00:04:29.481946",
     "status": "completed"
    },
    "tags": []
   },
   "source": [
    "• We observed that while casual users tend to take longer rides on average, the percentage of total rides is higher for members compared to casual users. More than 70% of members take shorter rides from Wednesday to Thursday compared to casual users. On the other hand, more than 33% of casual users tend to take longer rides between Friday and Monday, with shorter rides being more common on Tuesdays and Wednesdays.\n"
   ]
  },
  {
   "cell_type": "markdown",
   "id": "102cbaf3",
   "metadata": {
    "papermill": {
     "duration": 0.031775,
     "end_time": "2024-09-25T00:04:29.576635",
     "exception": false,
     "start_time": "2024-09-25T00:04:29.544860",
     "status": "completed"
    },
    "tags": []
   },
   "source": [
    "## 6. Seasonal Ride Times for Members vs. Casual Users:\n",
    "\n",
    "We will analyze how riding times vary throughout seasons and for members vs casual users. "
   ]
  },
  {
   "cell_type": "code",
   "execution_count": 30,
   "id": "e496f9dc",
   "metadata": {
    "execution": {
     "iopub.execute_input": "2024-09-25T00:04:29.643708Z",
     "iopub.status.busy": "2024-09-25T00:04:29.641865Z",
     "iopub.status.idle": "2024-09-25T00:04:29.957281Z",
     "shell.execute_reply": "2024-09-25T00:04:29.954771Z"
    },
    "papermill": {
     "duration": 0.352561,
     "end_time": "2024-09-25T00:04:29.960643",
     "exception": false,
     "start_time": "2024-09-25T00:04:29.608082",
     "status": "completed"
    },
    "tags": []
   },
   "outputs": [
    {
     "name": "stderr",
     "output_type": "stream",
     "text": [
      "\u001b[1m\u001b[22m`summarise()` has grouped output by 'User_Type'. You can override using the\n",
      "`.groups` argument.\n"
     ]
    },
    {
     "name": "stdout",
     "output_type": "stream",
     "text": [
      "\u001b[90m# A tibble: 8 × 4\u001b[39m\n",
      "\u001b[90m# Groups:   User_Type [2]\u001b[39m\n",
      "  User_Type season number_of_rides percentage_rides\n",
      "  \u001b[3m\u001b[90m<chr>\u001b[39m\u001b[23m     \u001b[3m\u001b[90m<chr>\u001b[39m\u001b[23m            \u001b[3m\u001b[90m<int>\u001b[39m\u001b[23m            \u001b[3m\u001b[90m<dbl>\u001b[39m\u001b[23m\n",
      "\u001b[90m1\u001b[39m Casual    Summer          \u001b[4m6\u001b[24m\u001b[4m4\u001b[24m\u001b[4m3\u001b[24m282            45.1 \n",
      "\u001b[90m2\u001b[39m Member    Summer          \u001b[4m9\u001b[24m\u001b[4m0\u001b[24m\u001b[4m0\u001b[24m893            33.7 \n",
      "\u001b[90m3\u001b[39m Member    Fall            \u001b[4m7\u001b[24m\u001b[4m7\u001b[24m\u001b[4m0\u001b[24m271            28.9 \n",
      "\u001b[90m4\u001b[39m Casual    Fall            \u001b[4m3\u001b[24m\u001b[4m8\u001b[24m\u001b[4m4\u001b[24m223            26.9 \n",
      "\u001b[90m5\u001b[39m Member    Spring          \u001b[4m6\u001b[24m\u001b[4m3\u001b[24m\u001b[4m3\u001b[24m774            23.7 \n",
      "\u001b[90m6\u001b[39m Casual    Spring          \u001b[4m3\u001b[24m\u001b[4m0\u001b[24m\u001b[4m9\u001b[24m023            21.7 \n",
      "\u001b[90m7\u001b[39m Member    Winter          \u001b[4m3\u001b[24m\u001b[4m6\u001b[24m\u001b[4m4\u001b[24m905            13.7 \n",
      "\u001b[90m8\u001b[39m Casual    Winter           \u001b[4m8\u001b[24m\u001b[4m9\u001b[24m751             6.29\n"
     ]
    }
   ],
   "source": [
    "# Get percentage of number of rides by season to identify peak seasons among members and casual users. \n",
    "Pop_season <- merged_df_V4 %>% group_by(User_Type,season) %>% \n",
    "  summarise(number_of_rides=n()) %>% \n",
    "  mutate(percentage_rides = (number_of_rides/sum(number_of_rides)) *100 ) %>%     \n",
    "  arrange(desc(percentage_rides))\n",
    "\n",
    "# Display values\n",
    "print(Pop_season)"
   ]
  },
  {
   "cell_type": "markdown",
   "id": "adc42946",
   "metadata": {
    "papermill": {
     "duration": 0.032941,
     "end_time": "2024-09-25T00:04:30.026570",
     "exception": false,
     "start_time": "2024-09-25T00:04:29.993629",
     "status": "completed"
    },
    "tags": []
   },
   "source": [
    "### 6.1 Plotting Seasonal Ride Times for Members vs. Casual Users:"
   ]
  },
  {
   "cell_type": "code",
   "execution_count": 31,
   "id": "398e518a",
   "metadata": {
    "execution": {
     "iopub.execute_input": "2024-09-25T00:04:30.098984Z",
     "iopub.status.busy": "2024-09-25T00:04:30.096822Z",
     "iopub.status.idle": "2024-09-25T00:04:30.726670Z",
     "shell.execute_reply": "2024-09-25T00:04:30.724386Z"
    },
    "papermill": {
     "duration": 0.668819,
     "end_time": "2024-09-25T00:04:30.729492",
     "exception": false,
     "start_time": "2024-09-25T00:04:30.060673",
     "status": "completed"
    },
    "tags": []
   },
   "outputs": [
    {
     "data": {
      "image/png": "[encoded data removed]"
     },
     "metadata": {
      "image/png": {
       "height": 420,
       "width": 420
      }
     },
     "output_type": "display_data"
    }
   ],
   "source": [
    "# Generate the pie chart for each season\n",
    "ggplot(Pop_season, aes(x = \"\", y = percentage_rides, fill = season)) +\n",
    "  geom_bar(stat = \"identity\", width = 1) +\n",
    "  coord_polar(theta = \"y\") +\n",
    "  facet_wrap(~ User_Type, strip.position = \"bottom\") +\n",
    "  # Add percentage labels\n",
    "  geom_text(aes(label = paste0(round(percentage_rides, 1), \"%\")),  \n",
    "      # Position labels in the middle of the slices\n",
    "            position = position_stack(vjust = 0.5)) +  \n",
    "  labs(title = \"Seasonal Distribution of Rides by Members vs. Casual Users\", \n",
    "       x = \"\", \n",
    "       y = \"\", \n",
    "       fill = \"Season\") +\n",
    "  theme_void() +\n",
    "  theme(legend.position = \"right\",\n",
    "         plot.title = element_text(hjust = 0.5, face = \"bold\"),\n",
    "         strip.background = element_blank(),  \n",
    "         strip.text.x = element_text(size = 12))  "
   ]
  },
  {
   "cell_type": "markdown",
   "id": "2fb85ba3",
   "metadata": {
    "papermill": {
     "duration": 0.032972,
     "end_time": "2024-09-25T00:04:30.795773",
     "exception": false,
     "start_time": "2024-09-25T00:04:30.762801",
     "status": "completed"
    },
    "tags": []
   },
   "source": [
    "• Among the seasons, summer is the most popular for both casual and member users. 45% of casual users and 33.7% of members ride the most during summer. The next most popular season is fall, with 26.9% of casual users and 28.9% of members riding during this time. Spring follows, with 21.7% of casual users and 23.7% of members choosing to ride. However, there is a notable difference in winter: only 6.3% of casual users ride, compared to 13.7% of members, indicating that members are more likely to ride during the colder months."
   ]
  },
  {
   "cell_type": "markdown",
   "id": "0d73264c",
   "metadata": {
    "papermill": {
     "duration": 0.034073,
     "end_time": "2024-09-25T00:04:30.862709",
     "exception": false,
     "start_time": "2024-09-25T00:04:30.828636",
     "status": "completed"
    },
    "tags": []
   },
   "source": [
    "## 7. Most Popular Rides by Route (Members vs Casual Users):\n",
    "\n",
    "We will analyze the number of rides by route, which is determined by the start and end station. This analysis will help identify the most popular routes used by members and casual users, allowing us to explore how trip patterns vary between the two groups."
   ]
  },
  {
   "cell_type": "code",
   "execution_count": 32,
   "id": "6a2347c5",
   "metadata": {
    "execution": {
     "iopub.execute_input": "2024-09-25T00:04:30.934094Z",
     "iopub.status.busy": "2024-09-25T00:04:30.932189Z",
     "iopub.status.idle": "2024-09-25T00:04:36.882117Z",
     "shell.execute_reply": "2024-09-25T00:04:36.878520Z"
    },
    "papermill": {
     "duration": 5.988793,
     "end_time": "2024-09-25T00:04:36.885697",
     "exception": false,
     "start_time": "2024-09-25T00:04:30.896904",
     "status": "completed"
    },
    "tags": []
   },
   "outputs": [
    {
     "name": "stdout",
     "output_type": "stream",
     "text": [
      "\u001b[90m# A tibble: 10 × 3\u001b[39m\n",
      "\u001b[90m# Groups:   User_Type [2]\u001b[39m\n",
      "   User_Type route_id                                            number_of_rides\n",
      "   \u001b[3m\u001b[90m<chr>\u001b[39m\u001b[23m     \u001b[3m\u001b[90m<chr>\u001b[39m\u001b[23m                                                         \u001b[3m\u001b[90m<int>\u001b[39m\u001b[23m\n",
      "\u001b[90m 1\u001b[39m Casual    \u001b[90m\"\u001b[39mStreeter Dr & Grand Ave To\\nStreeter Dr & Grand A…            \u001b[4m7\u001b[24m483\n",
      "\u001b[90m 2\u001b[39m Casual    \u001b[90m\"\u001b[39mDuSable Lake Shore Dr & Monroe St To\\nDuSable Lak…            \u001b[4m6\u001b[24m324\n",
      "\u001b[90m 3\u001b[39m Casual    \u001b[90m\"\u001b[39mDuSable Lake Shore Dr & Monroe St To\\nStreeter Dr…            \u001b[4m4\u001b[24m768\n",
      "\u001b[90m 4\u001b[39m Casual    \u001b[90m\"\u001b[39mMichigan Ave & Oak St To\\nMichigan Ave & Oak St\u001b[90m\"\u001b[39m              \u001b[4m3\u001b[24m882\n",
      "\u001b[90m 5\u001b[39m Casual    \u001b[90m\"\u001b[39mDusable Harbor To\\nDusable Harbor\u001b[90m\"\u001b[39m                            \u001b[4m2\u001b[24m812\n",
      "\u001b[90m 6\u001b[39m Member    \u001b[90m\"\u001b[39mState St & 33rd St To\\nCalumet Ave & 33rd St\u001b[90m\"\u001b[39m                 \u001b[4m5\u001b[24m971\n",
      "\u001b[90m 7\u001b[39m Member    \u001b[90m\"\u001b[39mCalumet Ave & 33rd St To\\nState St & 33rd St\u001b[90m\"\u001b[39m                 \u001b[4m5\u001b[24m963\n",
      "\u001b[90m 8\u001b[39m Member    \u001b[90m\"\u001b[39mUniversity Ave & 57th St To\\nEllis Ave & 60th St\u001b[90m\"\u001b[39m             \u001b[4m4\u001b[24m053\n",
      "\u001b[90m 9\u001b[39m Member    \u001b[90m\"\u001b[39mEllis Ave & 60th St To\\nUniversity Ave & 57th St\u001b[90m\"\u001b[39m             \u001b[4m4\u001b[24m031\n",
      "\u001b[90m10\u001b[39m Member    \u001b[90m\"\u001b[39mEllis Ave & 60th St To\\nEllis Ave & 55th St\u001b[90m\"\u001b[39m                  \u001b[4m3\u001b[24m802\n"
     ]
    }
   ],
   "source": [
    "# Get top 5  rides by route for each  type of member \n",
    "top_five_rides <- merged_df_V4 %>%\n",
    "  group_by(User_Type,route_id) %>%\n",
    "  summarize(number_of_rides = n(), .groups = 'drop') %>%\n",
    "  arrange(User_Type,(number_of_rides))  %>% group_by(User_Type)%>%\n",
    "  slice_max(number_of_rides, n = 5)\n",
    "# Display the result\n",
    "print(top_five_rides)"
   ]
  },
  {
   "cell_type": "markdown",
   "id": "a89ae85c",
   "metadata": {
    "papermill": {
     "duration": 0.033977,
     "end_time": "2024-09-25T00:04:36.952782",
     "exception": false,
     "start_time": "2024-09-25T00:04:36.918805",
     "status": "completed"
    },
    "tags": []
   },
   "source": [
    "### 7.1 Plotting Most Popular Rides by Route (Members vs Casual Users):"
   ]
  },
  {
   "cell_type": "code",
   "execution_count": 33,
   "id": "f4c7294d",
   "metadata": {
    "execution": {
     "iopub.execute_input": "2024-09-25T00:04:37.025047Z",
     "iopub.status.busy": "2024-09-25T00:04:37.023213Z",
     "iopub.status.idle": "2024-09-25T00:04:37.429715Z",
     "shell.execute_reply": "2024-09-25T00:04:37.427140Z"
    },
    "papermill": {
     "duration": 0.446826,
     "end_time": "2024-09-25T00:04:37.432723",
     "exception": false,
     "start_time": "2024-09-25T00:04:36.985897",
     "status": "completed"
    },
    "tags": []
   },
   "outputs": [
    {
     "data": {
      "image/png": "[encoded data removed]"
     },
     "metadata": {
      "image/png": {
       "height": 420,
       "width": 420
      }
     },
     "output_type": "display_data"
    }
   ],
   "source": [
    "ggplot(top_five_rides, aes(x = User_Type, y = number_of_rides, fill = route_id)) +\n",
    "  geom_bar(stat = \"identity\", position = \"dodge\") +\n",
    "  # Flips the axes to make bars horizontal\n",
    "  coord_flip() +  \n",
    "  labs(title = \"Popular Top 5 Rides by Route Members vs Casual Users\",\n",
    "       x = \"User Type\", \n",
    "       y = \"Number of Rides\",\n",
    "       fill = \"Routes\") +\n",
    "   theme(\n",
    "    legend.position = \"bottom\",                \n",
    "    legend.key.size = unit(0.5, \"cm\"),         \n",
    "    legend.text = element_text(size = 8),\n",
    "    plot.title = element_text(hjust = 0.5, face = \"bold\")\n",
    "  ) +\n",
    "  guides(fill = guide_legend(nrow = 5))"
   ]
  },
  {
   "cell_type": "markdown",
   "id": "4f76a38f",
   "metadata": {
    "papermill": {
     "duration": 0.034923,
     "end_time": "2024-09-25T00:04:37.503730",
     "exception": false,
     "start_time": "2024-09-25T00:04:37.468807",
     "status": "completed"
    },
    "tags": []
   },
   "source": [
    "• We identified that bike usage is highest on the east side of the city. Casual users tend to ride primarily around tourist areas, including popular spots like Navy Pier, Millennium Park, the Art Institute of Chicago, and 360 Chicago. In contrast, members predominantly use the service near academic hubs, with frequent rides around the University of Chicago and the Illinois Institute of Technology."
   ]
  },
  {
   "cell_type": "markdown",
   "id": "3e74ef41",
   "metadata": {
    "papermill": {
     "duration": 0.034677,
     "end_time": "2024-09-25T00:04:37.572883",
     "exception": false,
     "start_time": "2024-09-25T00:04:37.538206",
     "status": "completed"
    },
    "tags": []
   },
   "source": [
    "### 7.2  Plotting Top 5 Routes by Season and User Type\n",
    "\n",
    "We analyze the top 5 most popular routes among members and casual users, examining their behavior across different seasons. By calculating the percentage of rides for each route in each season, we can uncover how route preferences change over time and by user type. "
   ]
  },
  {
   "cell_type": "code",
   "execution_count": 34,
   "id": "332d54ee",
   "metadata": {
    "execution": {
     "iopub.execute_input": "2024-09-25T00:04:37.648476Z",
     "iopub.status.busy": "2024-09-25T00:04:37.646659Z",
     "iopub.status.idle": "2024-09-25T00:04:37.937918Z",
     "shell.execute_reply": "2024-09-25T00:04:37.935561Z"
    },
    "papermill": {
     "duration": 0.332164,
     "end_time": "2024-09-25T00:04:37.940650",
     "exception": false,
     "start_time": "2024-09-25T00:04:37.608486",
     "status": "completed"
    },
    "tags": []
   },
   "outputs": [
    {
     "name": "stderr",
     "output_type": "stream",
     "text": [
      "\u001b[1m\u001b[22m`summarise()` has grouped output by 'User_Type', 'season'. You can override\n",
      "using the `.groups` argument.\n"
     ]
    },
    {
     "name": "stdout",
     "output_type": "stream",
     "text": [
      "\u001b[90m# A tibble: 80 × 5\u001b[39m\n",
      "\u001b[90m# Groups:   User_Type, season [8]\u001b[39m\n",
      "   User_Type season route_id                    number_of_rides percentage_rides\n",
      "   \u001b[3m\u001b[90m<chr>\u001b[39m\u001b[23m     \u001b[3m\u001b[90m<chr>\u001b[39m\u001b[23m  \u001b[3m\u001b[90m<chr>\u001b[39m\u001b[23m                                 \u001b[3m\u001b[90m<int>\u001b[39m\u001b[23m            \u001b[3m\u001b[90m<dbl>\u001b[39m\u001b[23m\n",
      "\u001b[90m 1\u001b[39m Member    Summer \u001b[90m\"\u001b[39mCalumet Ave & 33rd St To\\…            \u001b[4m1\u001b[24m593             29.9\n",
      "\u001b[90m 2\u001b[39m Member    Summer \u001b[90m\"\u001b[39mState St & 33rd St To\\nCa…            \u001b[4m1\u001b[24m586             29.7\n",
      "\u001b[90m 3\u001b[39m Casual    Summer \u001b[90m\"\u001b[39mStreeter Dr & Grand Ave T…            \u001b[4m3\u001b[24m843             28.7\n",
      "\u001b[90m 4\u001b[39m Casual    Spring \u001b[90m\"\u001b[39mDuSable Lake Shore Dr & M…            \u001b[4m1\u001b[24m817             25.2\n",
      "\u001b[90m 5\u001b[39m Casual    Spring \u001b[90m\"\u001b[39mStreeter Dr & Grand Ave T…            \u001b[4m1\u001b[24m686             23.4\n",
      "\u001b[90m 6\u001b[39m Member    Fall   \u001b[90m\"\u001b[39mCalumet Ave & 33rd St To\\…            \u001b[4m2\u001b[24m305             22.5\n",
      "\u001b[90m 7\u001b[39m Member    Fall   \u001b[90m\"\u001b[39mState St & 33rd St To\\nCa…            \u001b[4m2\u001b[24m302             22.5\n",
      "\u001b[90m 8\u001b[39m Casual    Fall   \u001b[90m\"\u001b[39mStreeter Dr & Grand Ave T…            \u001b[4m1\u001b[24m727             22.1\n",
      "\u001b[90m 9\u001b[39m Member    Winter \u001b[90m\"\u001b[39mState St & 33rd St To\\nCa…             889             21.3\n",
      "\u001b[90m10\u001b[39m Member    Winter \u001b[90m\"\u001b[39mUniversity Ave & 57th St …             888             21.3\n",
      "\u001b[90m# ℹ 70 more rows\u001b[39m\n"
     ]
    }
   ],
   "source": [
    "# Get from merged data frame Version 4, top 5 routes \n",
    "filtered_data <- merged_df_V4 %>%\n",
    "  filter(route_id %in% top_five_rides$route_id)\n",
    "# Get percentage of rides by season of top 5 routes by user type\n",
    "top_five_by_season <- filtered_data %>% group_by(User_Type,season,route_id)%>% \n",
    "  summarise(number_of_rides = n()) %>% \n",
    "  mutate(percentage_rides = (number_of_rides/sum(number_of_rides)) *100 ) %>%     \n",
    "  arrange(desc(percentage_rides))\n",
    "# Display  filtered data\n",
    "print(top_five_by_season)"
   ]
  },
  {
   "cell_type": "code",
   "execution_count": 35,
   "id": "7941e49a",
   "metadata": {
    "execution": {
     "iopub.execute_input": "2024-09-25T00:04:38.017706Z",
     "iopub.status.busy": "2024-09-25T00:04:38.015883Z",
     "iopub.status.idle": "2024-09-25T00:04:39.098654Z",
     "shell.execute_reply": "2024-09-25T00:04:39.096492Z"
    },
    "papermill": {
     "duration": 1.12487,
     "end_time": "2024-09-25T00:04:39.102157",
     "exception": false,
     "start_time": "2024-09-25T00:04:37.977287",
     "status": "completed"
    },
    "tags": []
   },
   "outputs": [
    {
     "data": {
      "image/png": "[encoded data removed]"
     },
     "metadata": {
      "image/png": {
       "height": 420,
       "width": 420
      }
     },
     "output_type": "display_data"
    }
   ],
   "source": [
    "# Plot the top 5 biking hours for each season and member type\n",
    "ggplot(top_five_by_season, aes(x = season , y = percentage_rides, fill = User_Type) )+\n",
    "  geom_bar(stat = \"identity\", position = \"dodge\") +\n",
    "  facet_wrap(~ route_id, ncol = 3) +   \n",
    "  labs(title = \"Top 5 Routes by Season and User Type\",\n",
    "       x = \"Season\",\n",
    "       y = \"Percentage of Rides\",\n",
    "       fill = \"User Type\") +\n",
    "  theme(legend.position = \"right\",\n",
    "         plot.title = element_text(hjust = 0.5, size = 12, face = \"bold\"),\n",
    "        axis.text.x = element_text(angle = 40, hjust = 1))"
   ]
  },
  {
   "cell_type": "markdown",
   "id": "6dd83abc",
   "metadata": {
    "papermill": {
     "duration": 0.037493,
     "end_time": "2024-09-25T00:04:39.177907",
     "exception": false,
     "start_time": "2024-09-25T00:04:39.140414",
     "status": "completed"
    },
    "tags": []
   },
   "source": [
    "• Among the most popular routes, we observed that casual users tend to take more rides around the University of Chicago in fall, spring, and winter compared to the area around the Illinois Institute of Technology. Notably, in winter, casual users outnumber members on the route from Ellis Ave & 60th St to Ellis Ave & 55th St. The tourist areas of the city maintain a consistent pattern, with casual users being the predominant riders. However, during summer, there is a slight increase in the percentage of rides taken by members in these tourist areas.\n"
   ]
  },
  {
   "cell_type": "markdown",
   "id": "8f0a0236",
   "metadata": {
    "papermill": {
     "duration": 0.037444,
     "end_time": "2024-09-25T00:04:39.252193",
     "exception": false,
     "start_time": "2024-09-25T00:04:39.214749",
     "status": "completed"
    },
    "tags": []
   },
   "source": [
    "## 8. Time of Day When Users Ride the Most by Day of the Week (Members vs Casual Users):\n",
    "We will explore how the peak riding times vary by day of the week for members and casual users. This will reveal patterns in ride behavior, showing which times and days are most popular for each user type.\n"
   ]
  },
  {
   "cell_type": "code",
   "execution_count": 36,
   "id": "96ae614e",
   "metadata": {
    "execution": {
     "iopub.execute_input": "2024-09-25T00:04:39.331275Z",
     "iopub.status.busy": "2024-09-25T00:04:39.329478Z",
     "iopub.status.idle": "2024-09-25T00:04:39.607616Z",
     "shell.execute_reply": "2024-09-25T00:04:39.605224Z"
    },
    "papermill": {
     "duration": 0.321155,
     "end_time": "2024-09-25T00:04:39.610612",
     "exception": false,
     "start_time": "2024-09-25T00:04:39.289457",
     "status": "completed"
    },
    "tags": []
   },
   "outputs": [
    {
     "name": "stdout",
     "output_type": "stream",
     "text": [
      "\u001b[90m# A tibble: 70 × 5\u001b[39m\n",
      "\u001b[90m# Groups:   User_Type, day_of_week [14]\u001b[39m\n",
      "   User_Type day_of_week started_hour_of_day number_of_rides percentage_rides\n",
      "   \u001b[3m\u001b[90m<chr>\u001b[39m\u001b[23m     \u001b[3m\u001b[90m<ord>\u001b[39m\u001b[23m                     \u001b[3m\u001b[90m<int>\u001b[39m\u001b[23m           \u001b[3m\u001b[90m<int>\u001b[39m\u001b[23m            \u001b[3m\u001b[90m<dbl>\u001b[39m\u001b[23m\n",
      "\u001b[90m 1\u001b[39m Casual    Sun                          15           \u001b[4m2\u001b[24m\u001b[4m2\u001b[24m760             9.31\n",
      "\u001b[90m 2\u001b[39m Casual    Sun                          14           \u001b[4m2\u001b[24m\u001b[4m2\u001b[24m367             9.15\n",
      "\u001b[90m 3\u001b[39m Casual    Sun                          13           \u001b[4m2\u001b[24m\u001b[4m1\u001b[24m655             8.86\n",
      "\u001b[90m 4\u001b[39m Casual    Sun                          16           \u001b[4m2\u001b[24m\u001b[4m1\u001b[24m471             8.79\n",
      "\u001b[90m 5\u001b[39m Casual    Sun                          12           \u001b[4m2\u001b[24m\u001b[4m0\u001b[24m975             8.58\n",
      "\u001b[90m 6\u001b[39m Casual    Mon                          17           \u001b[4m1\u001b[24m\u001b[4m7\u001b[24m713            11.0 \n",
      "\u001b[90m 7\u001b[39m Casual    Mon                          16           \u001b[4m1\u001b[24m\u001b[4m5\u001b[24m149             9.37\n",
      "\u001b[90m 8\u001b[39m Casual    Mon                          18           \u001b[4m1\u001b[24m\u001b[4m4\u001b[24m755             9.12\n",
      "\u001b[90m 9\u001b[39m Casual    Mon                          15           \u001b[4m1\u001b[24m\u001b[4m2\u001b[24m624             7.81\n",
      "\u001b[90m10\u001b[39m Casual    Mon                          14           \u001b[4m1\u001b[24m\u001b[4m1\u001b[24m187             6.92\n",
      "\u001b[90m# ℹ 60 more rows\u001b[39m\n"
     ]
    }
   ],
   "source": [
    "# Get the top 5 number of rides per hour by weekday and type of member to identify peack hours\n",
    "peak_hour_week_member_type <- merged_df_V4 %>%\n",
    "  group_by( User_Type,day_of_week, started_hour_of_day) %>%\n",
    "  summarize(number_of_rides = n(), .groups = 'drop') %>%\n",
    "  group_by(User_Type, day_of_week) %>%\n",
    "  mutate(percentage_rides = (number_of_rides/sum(number_of_rides)) *100 ) %>%     \n",
    "  arrange(desc(percentage_rides)) %>%\n",
    "  slice_max(percentage_rides, n = 5)\n",
    "# Display values\n",
    "print(peak_hour_week_member_type)"
   ]
  },
  {
   "cell_type": "markdown",
   "id": "96d87c59",
   "metadata": {
    "papermill": {
     "duration": 0.038088,
     "end_time": "2024-09-25T00:04:39.686458",
     "exception": false,
     "start_time": "2024-09-25T00:04:39.648370",
     "status": "completed"
    },
    "tags": []
   },
   "source": [
    "### 8.1 Popular Time of Day When Users Ride the Most by Day of the Week (Members vs Casual Users):\n"
   ]
  },
  {
   "cell_type": "code",
   "execution_count": 37,
   "id": "b64c9704",
   "metadata": {
    "execution": {
     "iopub.execute_input": "2024-09-25T00:04:39.765250Z",
     "iopub.status.busy": "2024-09-25T00:04:39.763479Z",
     "iopub.status.idle": "2024-09-25T00:04:44.973054Z",
     "shell.execute_reply": "2024-09-25T00:04:44.969992Z"
    },
    "papermill": {
     "duration": 5.253243,
     "end_time": "2024-09-25T00:04:44.976843",
     "exception": false,
     "start_time": "2024-09-25T00:04:39.723600",
     "status": "completed"
    },
    "tags": []
   },
   "outputs": [
    {
     "data": {
      "image/png": "[encoded data removed]"
     },
     "metadata": {
      "image/png": {
       "height": 420,
       "width": 420
      }
     },
     "output_type": "display_data"
    }
   ],
   "source": [
    "# Plot the top 5 biking hours for each season and member type\n",
    "ggplot(peak_hour_week_member_type, aes(x = day_of_week, y = percentage_rides, fill = factor(started_hour_of_day, levels = sort(unique(peak_hour_week_member_type$started_hour_of_day))))) +\n",
    "  geom_bar(stat = \"identity\", position = \"dodge\") +\n",
    "  facet_wrap(~ User_Type, ncol = 1) +  \n",
    "  labs(title = \"Top 5 Hours of the Day When Users Bike the Most by  Member Type\",\n",
    "       x = \"Days of Week\",\n",
    "       y = \"Percentage of Rides\",\n",
    "       fill = \"Top biking hours\") +\n",
    "  theme(legend.position = \"right\",\n",
    "         plot.title = element_text(hjust = 0.5, size = 12, face = \"bold\"))\n"
   ]
  },
  {
   "cell_type": "markdown",
   "id": "80f2847b",
   "metadata": {
    "papermill": {
     "duration": 0.038443,
     "end_time": "2024-09-25T00:04:45.054387",
     "exception": false,
     "start_time": "2024-09-25T00:04:45.015944",
     "status": "completed"
    },
    "tags": []
   },
   "source": [
    "• We found that members typically ride between 7 and 8 AM in the morning and from 12 PM to 7 PM in the afternoon, primarily from Monday to Thursday. Casual users, on the other hand, tend to ride mostly in the afternoon. For both groups, 5 PM is the most popular time to start a ride, with more than 10% of casual users riding at that time from Monday to Thursday. On Sundays, both members and casual users exhibit similar riding patterns, with most rides starting between 12 PM and 5 PM. On Saturdays, members tend to ride during later hours compared to casual users. However, during weekdays, casual riders generally ride later in the day than members."
   ]
  },
  {
   "cell_type": "markdown",
   "id": "f61db4e8",
   "metadata": {
    "papermill": {
     "duration": 0.038506,
     "end_time": "2024-09-25T00:04:45.130758",
     "exception": false,
     "start_time": "2024-09-25T00:04:45.092252",
     "status": "completed"
    },
    "tags": []
   },
   "source": [
    "## 9. Time of Day When Users Ride the Most by Season (Members vs Casual Users):\n",
    "\n",
    "We will explore how peak riding times vary by season for both members and casual users. This analysis will uncover patterns in ride behavior across different times of the day, highlighting which hours are most popular for each user type in each season. Understanding these seasonal variations in riding habits helps identify the times when users are most active."
   ]
  },
  {
   "cell_type": "code",
   "execution_count": 38,
   "id": "21ae9cdd",
   "metadata": {
    "execution": {
     "iopub.execute_input": "2024-09-25T00:04:45.210763Z",
     "iopub.status.busy": "2024-09-25T00:04:45.209045Z",
     "iopub.status.idle": "2024-09-25T00:04:45.507539Z",
     "shell.execute_reply": "2024-09-25T00:04:45.504797Z"
    },
    "papermill": {
     "duration": 0.342377,
     "end_time": "2024-09-25T00:04:45.511326",
     "exception": false,
     "start_time": "2024-09-25T00:04:45.168949",
     "status": "completed"
    },
    "tags": []
   },
   "outputs": [
    {
     "name": "stdout",
     "output_type": "stream",
     "text": [
      "\u001b[90m# A tibble: 40 × 5\u001b[39m\n",
      "\u001b[90m# Groups:   User_Type, season [8]\u001b[39m\n",
      "   User_Type season started_hour_of_day number_of_rides percentage_rides\n",
      "   \u001b[3m\u001b[90m<chr>\u001b[39m\u001b[23m     \u001b[3m\u001b[90m<chr>\u001b[39m\u001b[23m                \u001b[3m\u001b[90m<int>\u001b[39m\u001b[23m           \u001b[3m\u001b[90m<int>\u001b[39m\u001b[23m            \u001b[3m\u001b[90m<dbl>\u001b[39m\u001b[23m\n",
      "\u001b[90m 1\u001b[39m Casual    Fall                    17           \u001b[4m3\u001b[24m\u001b[4m6\u001b[24m905             9.61\n",
      "\u001b[90m 2\u001b[39m Casual    Fall                    16           \u001b[4m3\u001b[24m\u001b[4m5\u001b[24m361             9.20\n",
      "\u001b[90m 3\u001b[39m Casual    Fall                    15           \u001b[4m3\u001b[24m\u001b[4m0\u001b[24m677             7.98\n",
      "\u001b[90m 4\u001b[39m Casual    Fall                    18           \u001b[4m3\u001b[24m\u001b[4m0\u001b[24m539             7.95\n",
      "\u001b[90m 5\u001b[39m Casual    Fall                    14           \u001b[4m2\u001b[24m\u001b[4m7\u001b[24m728             7.22\n",
      "\u001b[90m 6\u001b[39m Casual    Spring                  17           \u001b[4m3\u001b[24m\u001b[4m1\u001b[24m991            10.4 \n",
      "\u001b[90m 7\u001b[39m Casual    Spring                  16           \u001b[4m3\u001b[24m\u001b[4m0\u001b[24m360             9.82\n",
      "\u001b[90m 8\u001b[39m Casual    Spring                  15           \u001b[4m2\u001b[24m\u001b[4m5\u001b[24m920             8.39\n",
      "\u001b[90m 9\u001b[39m Casual    Spring                  18           \u001b[4m2\u001b[24m\u001b[4m5\u001b[24m445             8.23\n",
      "\u001b[90m10\u001b[39m Casual    Spring                  14           \u001b[4m2\u001b[24m\u001b[4m3\u001b[24m882             7.73\n",
      "\u001b[90m# ℹ 30 more rows\u001b[39m\n"
     ]
    }
   ],
   "source": [
    "# Get the top 5 number of rides per hour by weekday and type of member to identify peak hours\n",
    "peak_hour_season_member_type <- merged_df_V4 %>%\n",
    "  group_by( User_Type,season, started_hour_of_day) %>%\n",
    "  summarize(number_of_rides = n(), .groups = 'drop') %>%\n",
    "  group_by(User_Type, season) %>%\n",
    "  mutate(percentage_rides = (number_of_rides/sum(number_of_rides)) *100 ) %>%     \n",
    "  arrange(desc(percentage_rides)) %>%\n",
    "  slice_max(percentage_rides, n = 5)\n",
    "# Display values\n",
    "print(peak_hour_season_member_type)"
   ]
  },
  {
   "cell_type": "markdown",
   "id": "2fc9259e",
   "metadata": {
    "papermill": {
     "duration": 0.038488,
     "end_time": "2024-09-25T00:04:45.588368",
     "exception": false,
     "start_time": "2024-09-25T00:04:45.549880",
     "status": "completed"
    },
    "tags": []
   },
   "source": [
    "### 9.1 Popular Time of Day When Users Ride the Most by Day of the Week (Members vs Casual Users):"
   ]
  },
  {
   "cell_type": "code",
   "execution_count": 39,
   "id": "0b953465",
   "metadata": {
    "execution": {
     "iopub.execute_input": "2024-09-25T00:04:45.668844Z",
     "iopub.status.busy": "2024-09-25T00:04:45.667078Z",
     "iopub.status.idle": "2024-09-25T00:04:46.157546Z",
     "shell.execute_reply": "2024-09-25T00:04:46.154440Z"
    },
    "papermill": {
     "duration": 0.534508,
     "end_time": "2024-09-25T00:04:46.161208",
     "exception": false,
     "start_time": "2024-09-25T00:04:45.626700",
     "status": "completed"
    },
    "tags": []
   },
   "outputs": [
    {
     "data": {
      "image/png": "[encoded data removed]"
     },
     "metadata": {
      "image/png": {
       "height": 420,
       "width": 420
      }
     },
     "output_type": "display_data"
    }
   ],
   "source": [
    "# Plot the top 5 biking hours for each season and member type\n",
    "ggplot(peak_hour_season_member_type, aes(x = season, y = percentage_rides, fill = factor(started_hour_of_day, levels = sort(unique(peak_hour_week_member_type$started_hour_of_day))))) +\n",
    "  geom_bar(stat = \"identity\", position = \"dodge\") +\n",
    "  facet_wrap(~ User_Type, ncol = 1) +  \n",
    "  labs(title = \"Top 5 Hours of the Day When Users Bike the Most by  Member Type\",\n",
    "       x = \"Days of Week\",\n",
    "       y = \"Percentage of Rides\",\n",
    "       fill = \"Top biking hours\") +\n",
    "  theme(legend.position = \"right\",\n",
    "         plot.title = element_text(hjust = 0.5, size = 12, face = \"bold\"))"
   ]
  },
  {
   "cell_type": "markdown",
   "id": "55245fff",
   "metadata": {
    "papermill": {
     "duration": 0.039771,
     "end_time": "2024-09-25T00:04:46.241623",
     "exception": false,
     "start_time": "2024-09-25T00:04:46.201852",
     "status": "completed"
    },
    "tags": []
   },
   "source": [
    "• Analyzing the most popular biking times by season, we observe that ride behavior among members remains relatively consistent throughout the year. However, in winter, members are more likely to ride at 8 AM and between 3 PM and 4 PM compared to other seasons. Additionally, rides after 6 PM are less frequent during winter. For casual users, the key difference in winter is that they tend to start riding more frequently around 1 PM, which is higher than in other seasons."
   ]
  },
  {
   "cell_type": "markdown",
   "id": "13b46650",
   "metadata": {
    "papermill": {
     "duration": 0.039021,
     "end_time": "2024-09-25T00:04:46.321124",
     "exception": false,
     "start_time": "2024-09-25T00:04:46.282103",
     "status": "completed"
    },
    "tags": []
   },
   "source": [
    "# Data Analysis:\n",
    "\n",
    "The analysis of Cyclistic’s historical bike data reveals clear distinctions in riding behavior between casual users and members, as well as patterns influenced by seasons and times of the day. While casual users consistently take longer rides, members account for a higher percentage of total rides, especially on weekdays. Both groups tend to ride more during the **weekends**, particularly between Friday and Monday, with rides often extending in duration compared to weekdays.\n",
    "\n",
    "Classic bikes remain the preferred choice for both casual and member users, likely due to their greater availability at stations. Casual users ride classic bikes for approximately **10 minutes** longer than members, indicating a more leisurely use of the service. Seasonal differences also play a role, with summer being the most popular time for biking, followed by fall and spring, while winter sees a significant decline in casual riders. However, members are more resilient to seasonal changes, showing a higher willingness to ride during the colder months.\n",
    "\n",
    "Geographically, casual users are concentrated around **tourist destinations** such as Navy Pier, Millennium Park, and the Art Institute of Chicago, whereas members frequent **academic areas** like the University of Chicago and the Illinois Institute of Technology. Notably, casual users take more rides around the University of Chicago in fall, spring, and winter, and significantly outnumber members on the Ellis Ave route during winter.\n",
    "\n",
    "In terms of time of day, members tend to ride during the morning and early afternoon on weekdays, particularly between **7 AM and 8 AM and from 12 PM to 7 PM**, with **5 PM being the peak hour** for both groups. Casual users, in contrast, generally ride later in the day, especially during weekdays, and are more active in the afternoon on weekends. Both groups follow similar patterns on Sundays, riding mostly between 12 PM and 5 PM.\n",
    "\n",
    "Seasonally, winter introduces noticeable shifts, with members more likely to ride during 8 AM and between 3 PM and 4 PM, while casual users begin riding more frequently at 1 PM during this time. Overall, the analysis highlights clear trends in usage patterns, which can be leveraged to tailor marketing strategies and improve bike availability based on demand.\n",
    "\n",
    "# Marketing Strategy Development:\n",
    "\n",
    "As the objective is to promote that casual user shift to annual membership, first the marketing To encourage casual users to transition to annual memberships, the marketing strategy should focus on two key areas:\n",
    "\n",
    "**1. Seasonal Promotion:** Offer a special 3-month membership at a discounted rate, covering an entire season. This promotion allows casual users to experience the benefits of membership at a lower cost, incentivizing them to continue beyond the trial period.\n",
    "\n",
    "**2. Student-Focused Campaign:**  Launch a targeted campaign aimed at students, offering a discounted first-year membership. This campaign can be promoted through social media and on-campus advertising, emphasizing the convenience and affordability for students. Stations near colleges and universities should prominently display advertisements encouraging student memberships.\n",
    "\n",
    "**3. Peak Hour Discount Plan:** Introduce a membership plan that provides special discounts on rides during peak hours, specifically from 4 PM to 6 PM. This strategy encourages users to take advantage of reduced rates during high-demand periods, offering both cost savings and convenience.\n",
    "\n",
    "**4. Targeting Tourist Areas:** Develop campaigns promoting different membership options around tourist areas, where a high concentration of casual riders has been identified (e.g., Navy Pier, Millennium Park). This localized approach will help convert frequent tourist riders into members.\n",
    "\n",
    "**5. Event-Based Collaborations:** Partner with local festivals and music events to offer special promotions, such as free 5-ride passes for 10-minute rides when users purchase event tickets. This will increase exposure and encourage casual riders to experience the service.\n",
    "\n",
    "**6. Seasonal Flexibility:** Offer a flexible membership plan tailored for those who prefer to bike during specific seasons, such as summer and fall, allowing them to pay for seasonal usage instead of committing to a year-long plan.\n",
    "\n"
   ]
  }
 ],
 "metadata": {
  "kaggle": {
   "accelerator": "none",
   "dataSources": [
    {
     "datasetId": 5744770,
     "sourceId": 9451202,
     "sourceType": "datasetVersion"
    }
   ],
   "dockerImageVersionId": 30749,
   "isGpuEnabled": false,
   "isInternetEnabled": true,
   "language": "r",
   "sourceType": "notebook"
  },
  "kernelspec": {
   "display_name": "R",
   "language": "R",
   "name": "ir"
  },
  "language_info": {
   "codemirror_mode": "r",
   "file_extension": ".r",
   "mimetype": "text/x-r-source",
   "name": "R",
   "pygments_lexer": "r",
   "version": "4.4.0"
  },
  "papermill": {
   "default_parameters": {},
   "duration": 253.662227,
   "end_time": "2024-09-25T00:04:46.886280",
   "environment_variables": {},
   "exception": null,
   "input_path": "__notebook__.ipynb",
   "output_path": "__notebook__.ipynb",
   "parameters": {},
   "start_time": "2024-09-25T00:00:33.224053",
   "version": "2.6.0"
  }
 },
 "nbformat": 4,
 "nbformat_minor": 5
}
